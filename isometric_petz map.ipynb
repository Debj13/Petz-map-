{
  "cells": [
    {
      "cell_type": "code",
      "execution_count": null,
      "metadata": {
        "colab": {
          "base_uri": "https://localhost:8080/",
          "height": 54
        },
        "id": "7ccb6852",
        "outputId": "db8a62f9-7f95-44eb-fef9-77165f5ea522"
      },
      "outputs": [
        {
          "name": "stderr",
          "output_type": "stream",
          "text": [
            "/usr/local/lib/python3.7/dist-packages/ipykernel_launcher.py:20: DeprecationWarning: The module 'qiskit.test.mock' is deprecated since Qiskit Terra 0.21.0, and will be removed 3 months or more later. Instead, you should import the desired object directly 'qiskit.providers.fake_provider'.\n"
          ]
        }
      ],
      "source": [
        "%matplotlib inline\n",
        "# Importing standard Qiskit libraries\n",
        "from qiskit import QuantumCircuit, QuantumRegister, ClassicalRegister,execute, Aer, IBMQ\n",
        "from qiskit.compiler import transpile, assemble\n",
        "from qiskit.tools.jupyter import *\n",
        "from qiskit.visualization import *\n",
        "#from ibm_quantum_widgets import *\n",
        "import qiskit as q\n",
        "from qiskit import QuantumCircuit\n",
        "from qiskit.providers.aer import AerSimulator\n",
        "from qiskit.quantum_info import Statevector, random_statevector\n",
        "# noise import\n",
        "from qiskit.providers.aer.noise import NoiseModel\n",
        "from qiskit.providers.aer.noise import QuantumError, ReadoutError\n",
        "from qiskit.providers.aer.noise import pauli_error\n",
        "from qiskit.providers.aer.noise import depolarizing_error\n",
        "from qiskit.providers.aer.noise import amplitude_damping_error\n",
        "from qiskit.providers.aer.noise import thermal_relaxation_error\n",
        "#######\n",
        "from qiskit.test.mock import FakeMontreal\n",
        "fake =FakeMontreal()\n",
        "# Import Numpy and call it np so we can do maths!\n",
        "import numpy as np\n",
        "from numpy import pi\n",
        "from numpy import linalg\n",
        "from numpy import array\n",
        "from numpy import kron\n",
        "import math\n",
        "\n",
        "\n",
        "\n"
      ],
      "id": "7ccb6852"
    },
    {
      "cell_type": "code",
      "execution_count": null,
      "metadata": {
        "id": "a785ba6b"
      },
      "outputs": [],
      "source": [
        "#parameteres\n",
        "\n",
        "\n",
        "\n",
        "#################################### insert the values from the excel sheet ############\n",
        "##########     # insert from the excel   ###########\n",
        "\n",
        "theta11=1.49388\n",
        "\n",
        "\n",
        "  # insert from the excel\n",
        "\n",
        "theta12=1.61772\n",
        "      # insert from the excel\n",
        "\n",
        "theta13=0.607993\n",
        "\n",
        "         # insert from the excel\n",
        "\n",
        "\n",
        "#####################\n",
        "\n",
        "\n",
        "theta20= theta13 # don't change this line\n",
        "\n",
        "###################\n",
        "\n",
        "theta41= theta12 # don't change this line\n",
        "\n",
        "theta42=1.99735\n",
        "\n",
        "\n",
        "   # insert from the excel\n",
        "####################\n",
        "\n",
        "theta131=theta13      # don't change this line\n",
        "\n",
        "#################\n",
        "\n",
        "theta161=1.91975\n",
        "\n",
        "    # insert from the excel\n",
        "\n",
        "theta162=0.722005\n",
        "\n",
        "      # insert from the excel\n",
        "\n",
        "###############\n",
        "#{2901.17, 5004.85, 3301.38, 2547.32}\n",
        "thetaEn=  pi\n",
        "\n",
        "id0=2901   # 62              #insert from the excel\n",
        "\n",
        "id1=5004 #51             #insert from the excel\n",
        "\n",
        "id2=3301 #96             #insert from the excel\n",
        "\n",
        "id3=2547  #53             #insert from the excel\n",
        "\n",
        "\n",
        "#thetaEn= 0\n",
        "\n",
        "#id0=250    #62              #insert from the excel\n",
        "\n",
        "#id1=250  #51             #insert from the excel\n",
        "\n",
        "#id2=150 #96             #insert from the excel\n",
        "\n",
        "#id3=100   #53             #insert from the excel\n"
      ],
      "id": "a785ba6b"
    },
    {
      "cell_type": "code",
      "execution_count": null,
      "metadata": {
        "id": "f4a555ba"
      },
      "outputs": [],
      "source": [
        "#multi control gates\n",
        "\n",
        "############################################\n",
        "r10=QuantumCircuit(1)\n",
        "r10.ry(theta13,0)\n",
        "cqc10=r10.control(7)\n",
        "r11=QuantumCircuit(1)\n",
        "r11.ry(theta12,0)\n",
        "cqc11=r11.control(7)\n",
        "r12=QuantumCircuit(1)\n",
        "r12.ry(theta11,0)\n",
        "cqc12=r12.control(7)\n",
        "#cqc10.draw()\n",
        "r100=QuantumCircuit(8)\n",
        "r100=r100.compose(cqc10,range(8))\n",
        "#r100.draw()\n",
        "r110=QuantumCircuit(8)\n",
        "r110=r110.compose(cqc11,range(8))\n",
        "#r110.draw()\n",
        "r120=QuantumCircuit(8)\n",
        "r120=r120.compose(cqc12,range(8))\n",
        "\n",
        "\n",
        "##########################################\n",
        "\n",
        "\n",
        "r20=QuantumCircuit(1)\n",
        "r20.ry(theta20,0)\n",
        "cqc20=r20.control(7)\n",
        "r200=QuantumCircuit(8)\n",
        "r200=r200.compose(cqc20,range(8))\n",
        "\n",
        "###########################################\n",
        "r40a=QuantumCircuit(1)\n",
        "r40a.ry(-theta41,0)\n",
        "cqc40a=r40a.control(7)\n",
        "r400=QuantumCircuit(8)\n",
        "r400=r400.compose(cqc40a,range(8))\n",
        "r40b=QuantumCircuit(1)\n",
        "r40b.ry(-theta42,0)\n",
        "cqc40b=r40b.control(7)\n",
        "r401=QuantumCircuit(8)\n",
        "r401=r401.compose(cqc40b,range(8))\n",
        "\n",
        "#########################################\n",
        "\n",
        "\n",
        "r13a=QuantumCircuit(1)\n",
        "r13a.ry(theta131,0)\n",
        "cqc13=r13a.control(7)\n",
        "r13=QuantumCircuit(8)\n",
        "r13=r13.compose(cqc13,range(8))\n",
        "###########################################\n",
        "\n",
        "\n",
        "r16a=QuantumCircuit(1)\n",
        "r16a.ry(theta162,0)\n",
        "cqc161=r16a.control(7)\n",
        "r161=QuantumCircuit(8)\n",
        "r161=r161.compose(cqc161,range(8))\n",
        "r16b=QuantumCircuit(1)\n",
        "r16b.ry(theta161,0)\n",
        "cqc162=r16b.control(7)\n",
        "r162=QuantumCircuit(8)\n",
        "r162=r162.compose(cqc162,range(8))\n",
        "r16c=QuantumCircuit(1)\n",
        "r16c.ry(-pi,0)\n",
        "cqc160=r16c.control(7)\n",
        "r160=QuantumCircuit(8)\n",
        "r160=r160.compose(cqc160,range(8))\n",
        "##########################################"
      ],
      "id": "f4a555ba"
    },
    {
      "cell_type": "code",
      "execution_count": null,
      "metadata": {
        "colab": {
          "base_uri": "https://localhost:8080/",
          "height": 1000
        },
        "id": "KU6xGnZwJ3GR",
        "outputId": "de8a08e9-73af-4c77-da5b-3d6e0c9afae8"
      },
      "outputs": [
        {
          "name": "stdout",
          "output_type": "stream",
          "text": [
            "Looking in indexes: https://pypi.org/simple, https://us-python.pkg.dev/colab-wheels/public/simple/\n",
            "Collecting qutip\n",
            "  Downloading qutip-4.7.0-cp37-cp37m-manylinux_2_5_x86_64.manylinux1_x86_64.manylinux_2_12_x86_64.manylinux2010_x86_64.whl (14.7 MB)\n",
            "\u001b[K     |████████████████████████████████| 14.7 MB 4.9 MB/s \n",
            "\u001b[?25hRequirement already satisfied: packaging in /usr/local/lib/python3.7/dist-packages (from qutip) (21.3)\n",
            "Requirement already satisfied: numpy>=1.16.6 in /usr/local/lib/python3.7/dist-packages (from qutip) (1.21.6)\n",
            "Requirement already satisfied: scipy>=1.0 in /usr/local/lib/python3.7/dist-packages (from qutip) (1.7.3)\n",
            "Requirement already satisfied: pyparsing!=3.0.5,>=2.0.2 in /usr/local/lib/python3.7/dist-packages (from packaging->qutip) (3.0.9)\n",
            "Installing collected packages: qutip\n",
            "Successfully installed qutip-4.7.0\n",
            "Looking in indexes: https://pypi.org/simple, https://us-python.pkg.dev/colab-wheels/public/simple/\n",
            "Collecting qiskit\n",
            "  Downloading qiskit-0.39.3.tar.gz (13 kB)\n",
            "Collecting qiskit-terra==0.22.3\n",
            "  Downloading qiskit_terra-0.22.3-cp37-cp37m-manylinux_2_17_x86_64.manylinux2014_x86_64.whl (4.8 MB)\n",
            "\u001b[K     |████████████████████████████████| 4.8 MB 5.0 MB/s \n",
            "\u001b[?25hCollecting qiskit-aer==0.11.1\n",
            "  Downloading qiskit_aer-0.11.1-cp37-cp37m-manylinux_2_17_x86_64.manylinux2014_x86_64.whl (19.2 MB)\n",
            "\u001b[K     |████████████████████████████████| 19.2 MB 75 kB/s \n",
            "\u001b[?25hCollecting qiskit-ibmq-provider==0.19.2\n",
            "  Downloading qiskit_ibmq_provider-0.19.2-py3-none-any.whl (240 kB)\n",
            "\u001b[K     |████████████████████████████████| 240 kB 45.7 MB/s \n",
            "\u001b[?25hRequirement already satisfied: scipy>=1.0 in /usr/local/lib/python3.7/dist-packages (from qiskit-aer==0.11.1->qiskit) (1.7.3)\n",
            "Requirement already satisfied: numpy>=1.16.3 in /usr/local/lib/python3.7/dist-packages (from qiskit-aer==0.11.1->qiskit) (1.21.6)\n",
            "Collecting websockets>=10.0\n",
            "  Downloading websockets-10.4-cp37-cp37m-manylinux_2_5_x86_64.manylinux1_x86_64.manylinux_2_17_x86_64.manylinux2014_x86_64.whl (106 kB)\n",
            "\u001b[K     |████████████████████████████████| 106 kB 51.9 MB/s \n",
            "\u001b[?25hCollecting websocket-client>=1.0.1\n",
            "  Downloading websocket_client-1.4.2-py3-none-any.whl (55 kB)\n",
            "\u001b[K     |████████████████████████████████| 55 kB 3.2 MB/s \n",
            "\u001b[?25hRequirement already satisfied: requests>=2.19 in /usr/local/lib/python3.7/dist-packages (from qiskit-ibmq-provider==0.19.2->qiskit) (2.23.0)\n",
            "Collecting requests-ntlm>=1.1.0\n",
            "  Downloading requests_ntlm-1.1.0-py2.py3-none-any.whl (5.7 kB)\n",
            "Requirement already satisfied: python-dateutil>=2.8.0 in /usr/local/lib/python3.7/dist-packages (from qiskit-ibmq-provider==0.19.2->qiskit) (2.8.2)\n",
            "Requirement already satisfied: urllib3>=1.21.1 in /usr/local/lib/python3.7/dist-packages (from qiskit-ibmq-provider==0.19.2->qiskit) (1.24.3)\n",
            "Collecting stevedore>=3.0.0\n",
            "  Downloading stevedore-3.5.2-py3-none-any.whl (50 kB)\n",
            "\u001b[K     |████████████████████████████████| 50 kB 5.8 MB/s \n",
            "\u001b[?25hCollecting symengine>=0.9\n",
            "  Downloading symengine-0.9.2-cp37-cp37m-manylinux2010_x86_64.whl (37.5 MB)\n",
            "\u001b[K     |████████████████████████████████| 37.5 MB 45 kB/s \n",
            "\u001b[?25hCollecting tweedledum<2.0,>=1.1\n",
            "  Downloading tweedledum-1.1.1-cp37-cp37m-manylinux_2_12_x86_64.manylinux2010_x86_64.whl (943 kB)\n",
            "\u001b[K     |████████████████████████████████| 943 kB 40.8 MB/s \n",
            "\u001b[?25hCollecting retworkx>=0.11.0\n",
            "  Downloading retworkx-0.12.1-py3-none-any.whl (10 kB)\n",
            "Requirement already satisfied: sympy>=1.3 in /usr/local/lib/python3.7/dist-packages (from qiskit-terra==0.22.3->qiskit) (1.7.1)\n",
            "Requirement already satisfied: importlib-metadata<5.0 in /usr/local/lib/python3.7/dist-packages (from qiskit-terra==0.22.3->qiskit) (4.13.0)\n",
            "Collecting shared-memory38\n",
            "  Downloading shared_memory38-0.1.2-cp37-cp37m-manylinux_2_5_x86_64.manylinux1_x86_64.whl (25 kB)\n",
            "Requirement already satisfied: psutil>=5 in /usr/local/lib/python3.7/dist-packages (from qiskit-terra==0.22.3->qiskit) (5.4.8)\n",
            "Requirement already satisfied: dill>=0.3 in /usr/local/lib/python3.7/dist-packages (from qiskit-terra==0.22.3->qiskit) (0.3.6)\n",
            "Collecting ply>=3.10\n",
            "  Downloading ply-3.11-py2.py3-none-any.whl (49 kB)\n",
            "\u001b[K     |████████████████████████████████| 49 kB 6.0 MB/s \n",
            "\u001b[?25hRequirement already satisfied: typing-extensions in /usr/local/lib/python3.7/dist-packages (from qiskit-terra==0.22.3->qiskit) (4.1.1)\n",
            "Requirement already satisfied: zipp>=0.5 in /usr/local/lib/python3.7/dist-packages (from importlib-metadata<5.0->qiskit-terra==0.22.3->qiskit) (3.10.0)\n",
            "Requirement already satisfied: six>=1.5 in /usr/local/lib/python3.7/dist-packages (from python-dateutil>=2.8.0->qiskit-ibmq-provider==0.19.2->qiskit) (1.15.0)\n",
            "Requirement already satisfied: idna<3,>=2.5 in /usr/local/lib/python3.7/dist-packages (from requests>=2.19->qiskit-ibmq-provider==0.19.2->qiskit) (2.10)\n",
            "Requirement already satisfied: certifi>=2017.4.17 in /usr/local/lib/python3.7/dist-packages (from requests>=2.19->qiskit-ibmq-provider==0.19.2->qiskit) (2022.9.24)\n",
            "Requirement already satisfied: chardet<4,>=3.0.2 in /usr/local/lib/python3.7/dist-packages (from requests>=2.19->qiskit-ibmq-provider==0.19.2->qiskit) (3.0.4)\n",
            "Collecting ntlm-auth>=1.0.2\n",
            "  Downloading ntlm_auth-1.5.0-py2.py3-none-any.whl (29 kB)\n",
            "Collecting cryptography>=1.3\n",
            "  Downloading cryptography-38.0.4-cp36-abi3-manylinux_2_24_x86_64.whl (4.0 MB)\n",
            "\u001b[K     |████████████████████████████████| 4.0 MB 36.5 MB/s \n",
            "\u001b[?25hRequirement already satisfied: cffi>=1.12 in /usr/local/lib/python3.7/dist-packages (from cryptography>=1.3->requests-ntlm>=1.1.0->qiskit-ibmq-provider==0.19.2->qiskit) (1.15.1)\n",
            "Requirement already satisfied: pycparser in /usr/local/lib/python3.7/dist-packages (from cffi>=1.12->cryptography>=1.3->requests-ntlm>=1.1.0->qiskit-ibmq-provider==0.19.2->qiskit) (2.21)\n",
            "Collecting rustworkx==0.12.1\n",
            "  Downloading rustworkx-0.12.1-cp37-cp37m-manylinux_2_17_x86_64.manylinux2014_x86_64.whl (1.9 MB)\n",
            "\u001b[K     |████████████████████████████████| 1.9 MB 15.7 MB/s \n",
            "\u001b[?25hCollecting pbr!=2.1.0,>=2.0.0\n",
            "  Downloading pbr-5.11.0-py2.py3-none-any.whl (112 kB)\n",
            "\u001b[K     |████████████████████████████████| 112 kB 43.9 MB/s \n",
            "\u001b[?25hRequirement already satisfied: mpmath>=0.19 in /usr/local/lib/python3.7/dist-packages (from sympy>=1.3->qiskit-terra==0.22.3->qiskit) (1.2.1)\n",
            "Building wheels for collected packages: qiskit\n",
            "  Building wheel for qiskit (setup.py) ... \u001b[?25l\u001b[?25hdone\n",
            "  Created wheel for qiskit: filename=qiskit-0.39.3-py3-none-any.whl size=12262 sha256=47966dd10f19b417e4f5875a7c75cb1c8c66d020fd8f16b78e65da8cb9fe185d\n",
            "  Stored in directory: /root/.cache/pip/wheels/b1/36/b2/6eb4e6a961c404dce1da09f558c3d69f2bb7eea75e253c0890\n",
            "Successfully built qiskit\n",
            "Installing collected packages: rustworkx, pbr, tweedledum, symengine, stevedore, shared-memory38, retworkx, ply, ntlm-auth, cryptography, websockets, websocket-client, requests-ntlm, qiskit-terra, qiskit-ibmq-provider, qiskit-aer, qiskit\n",
            "Successfully installed cryptography-38.0.4 ntlm-auth-1.5.0 pbr-5.11.0 ply-3.11 qiskit-0.39.3 qiskit-aer-0.11.1 qiskit-ibmq-provider-0.19.2 qiskit-terra-0.22.3 requests-ntlm-1.1.0 retworkx-0.12.1 rustworkx-0.12.1 shared-memory38-0.1.2 stevedore-3.5.2 symengine-0.9.2 tweedledum-1.1.1 websocket-client-1.4.2 websockets-10.4\n",
            "Looking in indexes: https://pypi.org/simple, https://us-python.pkg.dev/colab-wheels/public/simple/\n",
            "Collecting qiskit_experiments\n",
            "  Downloading qiskit_experiments-0.4.0-py3-none-any.whl (399 kB)\n",
            "\u001b[K     |████████████████████████████████| 399 kB 5.2 MB/s \n",
            "\u001b[?25hCollecting matplotlib>=3.4\n",
            "  Downloading matplotlib-3.5.3-cp37-cp37m-manylinux_2_5_x86_64.manylinux1_x86_64.whl (11.2 MB)\n",
            "\u001b[K     |████████████████████████████████| 11.2 MB 145 kB/s \n",
            "\u001b[?25hCollecting lmfit\n",
            "  Downloading lmfit-1.1.0-py3-none-any.whl (90 kB)\n",
            "\u001b[K     |████████████████████████████████| 90 kB 10.1 MB/s \n",
            "\u001b[?25hRequirement already satisfied: qiskit-ibmq-provider>=0.16.0 in /usr/local/lib/python3.7/dist-packages (from qiskit_experiments) (0.19.2)\n",
            "Requirement already satisfied: scipy>=1.4 in /usr/local/lib/python3.7/dist-packages (from qiskit_experiments) (1.7.3)\n",
            "Requirement already satisfied: numpy>=1.17 in /usr/local/lib/python3.7/dist-packages (from qiskit_experiments) (1.21.6)\n",
            "Requirement already satisfied: qiskit-terra>=0.21.1 in /usr/local/lib/python3.7/dist-packages (from qiskit_experiments) (0.22.3)\n",
            "Collecting uncertainties\n",
            "  Downloading uncertainties-3.1.7-py2.py3-none-any.whl (98 kB)\n",
            "\u001b[K     |████████████████████████████████| 98 kB 8.6 MB/s \n",
            "\u001b[?25hCollecting qiskit-ibm-experiment>=0.2.5\n",
            "  Downloading qiskit_ibm_experiment-0.2.7-py3-none-any.whl (54 kB)\n",
            "\u001b[K     |████████████████████████████████| 54 kB 2.6 MB/s \n",
            "\u001b[?25hRequirement already satisfied: cycler>=0.10 in /usr/local/lib/python3.7/dist-packages (from matplotlib>=3.4->qiskit_experiments) (0.11.0)\n",
            "Collecting fonttools>=4.22.0\n",
            "  Downloading fonttools-4.38.0-py3-none-any.whl (965 kB)\n",
            "\u001b[K     |████████████████████████████████| 965 kB 58.0 MB/s \n",
            "\u001b[?25hRequirement already satisfied: kiwisolver>=1.0.1 in /usr/local/lib/python3.7/dist-packages (from matplotlib>=3.4->qiskit_experiments) (1.4.4)\n",
            "Requirement already satisfied: pillow>=6.2.0 in /usr/local/lib/python3.7/dist-packages (from matplotlib>=3.4->qiskit_experiments) (7.1.2)\n",
            "Requirement already satisfied: packaging>=20.0 in /usr/local/lib/python3.7/dist-packages (from matplotlib>=3.4->qiskit_experiments) (21.3)\n",
            "Requirement already satisfied: python-dateutil>=2.7 in /usr/local/lib/python3.7/dist-packages (from matplotlib>=3.4->qiskit_experiments) (2.8.2)\n",
            "Requirement already satisfied: pyparsing>=2.2.1 in /usr/local/lib/python3.7/dist-packages (from matplotlib>=3.4->qiskit_experiments) (3.0.9)\n",
            "Requirement already satisfied: typing-extensions in /usr/local/lib/python3.7/dist-packages (from kiwisolver>=1.0.1->matplotlib>=3.4->qiskit_experiments) (4.1.1)\n",
            "Requirement already satisfied: six>=1.5 in /usr/local/lib/python3.7/dist-packages (from python-dateutil>=2.7->matplotlib>=3.4->qiskit_experiments) (1.15.0)\n",
            "Requirement already satisfied: urllib3>=1.21.1 in /usr/local/lib/python3.7/dist-packages (from qiskit-ibm-experiment>=0.2.5->qiskit_experiments) (1.24.3)\n",
            "Requirement already satisfied: requests-ntlm>=1.1.0 in /usr/local/lib/python3.7/dist-packages (from qiskit-ibm-experiment>=0.2.5->qiskit_experiments) (1.1.0)\n",
            "Requirement already satisfied: requests>=2.19 in /usr/local/lib/python3.7/dist-packages (from qiskit-ibm-experiment>=0.2.5->qiskit_experiments) (2.23.0)\n",
            "Requirement already satisfied: pandas>=1.3.0 in /usr/local/lib/python3.7/dist-packages (from qiskit-ibm-experiment>=0.2.5->qiskit_experiments) (1.3.5)\n",
            "Requirement already satisfied: pytz>=2017.3 in /usr/local/lib/python3.7/dist-packages (from pandas>=1.3.0->qiskit-ibm-experiment>=0.2.5->qiskit_experiments) (2022.6)\n",
            "Requirement already satisfied: websockets>=10.0 in /usr/local/lib/python3.7/dist-packages (from qiskit-ibmq-provider>=0.16.0->qiskit_experiments) (10.4)\n",
            "Requirement already satisfied: websocket-client>=1.0.1 in /usr/local/lib/python3.7/dist-packages (from qiskit-ibmq-provider>=0.16.0->qiskit_experiments) (1.4.2)\n",
            "Requirement already satisfied: tweedledum<2.0,>=1.1 in /usr/local/lib/python3.7/dist-packages (from qiskit-terra>=0.21.1->qiskit_experiments) (1.1.1)\n",
            "Requirement already satisfied: sympy>=1.3 in /usr/local/lib/python3.7/dist-packages (from qiskit-terra>=0.21.1->qiskit_experiments) (1.7.1)\n",
            "Requirement already satisfied: symengine>=0.9 in /usr/local/lib/python3.7/dist-packages (from qiskit-terra>=0.21.1->qiskit_experiments) (0.9.2)\n",
            "Requirement already satisfied: ply>=3.10 in /usr/local/lib/python3.7/dist-packages (from qiskit-terra>=0.21.1->qiskit_experiments) (3.11)\n",
            "Requirement already satisfied: retworkx>=0.11.0 in /usr/local/lib/python3.7/dist-packages (from qiskit-terra>=0.21.1->qiskit_experiments) (0.12.1)\n",
            "Requirement already satisfied: dill>=0.3 in /usr/local/lib/python3.7/dist-packages (from qiskit-terra>=0.21.1->qiskit_experiments) (0.3.6)\n",
            "Requirement already satisfied: stevedore>=3.0.0 in /usr/local/lib/python3.7/dist-packages (from qiskit-terra>=0.21.1->qiskit_experiments) (3.5.2)\n",
            "Requirement already satisfied: shared-memory38 in /usr/local/lib/python3.7/dist-packages (from qiskit-terra>=0.21.1->qiskit_experiments) (0.1.2)\n",
            "Requirement already satisfied: psutil>=5 in /usr/local/lib/python3.7/dist-packages (from qiskit-terra>=0.21.1->qiskit_experiments) (5.4.8)\n",
            "Requirement already satisfied: importlib-metadata<5.0 in /usr/local/lib/python3.7/dist-packages (from qiskit-terra>=0.21.1->qiskit_experiments) (4.13.0)\n",
            "Requirement already satisfied: zipp>=0.5 in /usr/local/lib/python3.7/dist-packages (from importlib-metadata<5.0->qiskit-terra>=0.21.1->qiskit_experiments) (3.10.0)\n",
            "Requirement already satisfied: chardet<4,>=3.0.2 in /usr/local/lib/python3.7/dist-packages (from requests>=2.19->qiskit-ibm-experiment>=0.2.5->qiskit_experiments) (3.0.4)\n",
            "Requirement already satisfied: idna<3,>=2.5 in /usr/local/lib/python3.7/dist-packages (from requests>=2.19->qiskit-ibm-experiment>=0.2.5->qiskit_experiments) (2.10)\n",
            "Requirement already satisfied: certifi>=2017.4.17 in /usr/local/lib/python3.7/dist-packages (from requests>=2.19->qiskit-ibm-experiment>=0.2.5->qiskit_experiments) (2022.9.24)\n",
            "Requirement already satisfied: cryptography>=1.3 in /usr/local/lib/python3.7/dist-packages (from requests-ntlm>=1.1.0->qiskit-ibm-experiment>=0.2.5->qiskit_experiments) (38.0.4)\n",
            "Requirement already satisfied: ntlm-auth>=1.0.2 in /usr/local/lib/python3.7/dist-packages (from requests-ntlm>=1.1.0->qiskit-ibm-experiment>=0.2.5->qiskit_experiments) (1.5.0)\n",
            "Requirement already satisfied: cffi>=1.12 in /usr/local/lib/python3.7/dist-packages (from cryptography>=1.3->requests-ntlm>=1.1.0->qiskit-ibm-experiment>=0.2.5->qiskit_experiments) (1.15.1)\n",
            "Requirement already satisfied: pycparser in /usr/local/lib/python3.7/dist-packages (from cffi>=1.12->cryptography>=1.3->requests-ntlm>=1.1.0->qiskit-ibm-experiment>=0.2.5->qiskit_experiments) (2.21)\n",
            "Requirement already satisfied: rustworkx==0.12.1 in /usr/local/lib/python3.7/dist-packages (from retworkx>=0.11.0->qiskit-terra>=0.21.1->qiskit_experiments) (0.12.1)\n",
            "Requirement already satisfied: pbr!=2.1.0,>=2.0.0 in /usr/local/lib/python3.7/dist-packages (from stevedore>=3.0.0->qiskit-terra>=0.21.1->qiskit_experiments) (5.11.0)\n",
            "Requirement already satisfied: mpmath>=0.19 in /usr/local/lib/python3.7/dist-packages (from sympy>=1.3->qiskit-terra>=0.21.1->qiskit_experiments) (1.2.1)\n",
            "Collecting asteval>=0.9.28\n",
            "  Downloading asteval-0.9.28-py3-none-any.whl (18 kB)\n",
            "Requirement already satisfied: future in /usr/local/lib/python3.7/dist-packages (from uncertainties->qiskit_experiments) (0.16.0)\n",
            "Installing collected packages: uncertainties, fonttools, asteval, qiskit-ibm-experiment, matplotlib, lmfit, qiskit-experiments\n",
            "  Attempting uninstall: matplotlib\n",
            "    Found existing installation: matplotlib 3.2.2\n",
            "    Uninstalling matplotlib-3.2.2:\n",
            "      Successfully uninstalled matplotlib-3.2.2\n",
            "Successfully installed asteval-0.9.28 fonttools-4.38.0 lmfit-1.1.0 matplotlib-3.5.3 qiskit-experiments-0.4.0 qiskit-ibm-experiment-0.2.7 uncertainties-3.1.7\n"
          ]
        },
        {
          "data": {
            "application/vnd.colab-display-data+json": {
              "pip_warning": {
                "packages": [
                  "matplotlib",
                  "mpl_toolkits"
                ]
              }
            }
          },
          "metadata": {},
          "output_type": "display_data"
        },
        {
          "name": "stdout",
          "output_type": "stream",
          "text": [
            "Looking in indexes: https://pypi.org/simple, https://us-python.pkg.dev/colab-wheels/public/simple/\n",
            "Collecting qiskit-ibm-runtime\n",
            "  Downloading qiskit_ibm_runtime-0.8.0-py3-none-any.whl (190 kB)\n",
            "\u001b[K     |████████████████████████████████| 190 kB 5.2 MB/s \n",
            "\u001b[?25hRequirement already satisfied: typing-extensions>=4.0.0 in /usr/local/lib/python3.7/dist-packages (from qiskit-ibm-runtime) (4.1.1)\n",
            "Requirement already satisfied: urllib3>=1.21.1 in /usr/local/lib/python3.7/dist-packages (from qiskit-ibm-runtime) (1.24.3)\n",
            "Requirement already satisfied: qiskit-terra>=0.22 in /usr/local/lib/python3.7/dist-packages (from qiskit-ibm-runtime) (0.22.3)\n",
            "Requirement already satisfied: requests>=2.19 in /usr/local/lib/python3.7/dist-packages (from qiskit-ibm-runtime) (2.23.0)\n",
            "Requirement already satisfied: numpy>=1.13 in /usr/local/lib/python3.7/dist-packages (from qiskit-ibm-runtime) (1.21.6)\n",
            "Requirement already satisfied: requests-ntlm>=1.1.0 in /usr/local/lib/python3.7/dist-packages (from qiskit-ibm-runtime) (1.1.0)\n",
            "Collecting websocket-client<=1.3.3\n",
            "  Downloading websocket_client-1.3.3-py3-none-any.whl (54 kB)\n",
            "\u001b[K     |████████████████████████████████| 54 kB 2.5 MB/s \n",
            "\u001b[?25hCollecting ibm-platform-services>=0.22.6\n",
            "  Downloading ibm-platform-services-0.29.0.tar.gz (235 kB)\n",
            "\u001b[K     |████████████████████████████████| 235 kB 59.0 MB/s \n",
            "\u001b[?25h  Installing build dependencies ... \u001b[?25l\u001b[?25hdone\n",
            "  Getting requirements to build wheel ... \u001b[?25l\u001b[?25hdone\n",
            "    Preparing wheel metadata ... \u001b[?25l\u001b[?25hdone\n",
            "Requirement already satisfied: python-dateutil>=2.8.0 in /usr/local/lib/python3.7/dist-packages (from qiskit-ibm-runtime) (2.8.2)\n",
            "Collecting ibm-cloud-sdk-core<4.0.0,>=3.16.0\n",
            "  Downloading ibm_cloud_sdk_core-3.16.0-py3-none-any.whl (83 kB)\n",
            "\u001b[K     |████████████████████████████████| 83 kB 2.3 MB/s \n",
            "\u001b[?25hCollecting urllib3>=1.21.1\n",
            "  Downloading urllib3-1.26.13-py2.py3-none-any.whl (140 kB)\n",
            "\u001b[K     |████████████████████████████████| 140 kB 52.5 MB/s \n",
            "\u001b[?25hCollecting requests>=2.19\n",
            "  Downloading requests-2.28.1-py3-none-any.whl (62 kB)\n",
            "\u001b[K     |████████████████████████████████| 62 kB 1.4 MB/s \n",
            "\u001b[?25hCollecting PyJWT<3.0.0,>=2.4.0\n",
            "  Downloading PyJWT-2.6.0-py3-none-any.whl (20 kB)\n",
            "Requirement already satisfied: six>=1.5 in /usr/local/lib/python3.7/dist-packages (from python-dateutil>=2.8.0->qiskit-ibm-runtime) (1.15.0)\n",
            "Requirement already satisfied: scipy>=1.5 in /usr/local/lib/python3.7/dist-packages (from qiskit-terra>=0.22->qiskit-ibm-runtime) (1.7.3)\n",
            "Requirement already satisfied: psutil>=5 in /usr/local/lib/python3.7/dist-packages (from qiskit-terra>=0.22->qiskit-ibm-runtime) (5.4.8)\n",
            "Requirement already satisfied: tweedledum<2.0,>=1.1 in /usr/local/lib/python3.7/dist-packages (from qiskit-terra>=0.22->qiskit-ibm-runtime) (1.1.1)\n",
            "Requirement already satisfied: ply>=3.10 in /usr/local/lib/python3.7/dist-packages (from qiskit-terra>=0.22->qiskit-ibm-runtime) (3.11)\n",
            "Requirement already satisfied: importlib-metadata<5.0 in /usr/local/lib/python3.7/dist-packages (from qiskit-terra>=0.22->qiskit-ibm-runtime) (4.13.0)\n",
            "Requirement already satisfied: symengine>=0.9 in /usr/local/lib/python3.7/dist-packages (from qiskit-terra>=0.22->qiskit-ibm-runtime) (0.9.2)\n",
            "Requirement already satisfied: shared-memory38 in /usr/local/lib/python3.7/dist-packages (from qiskit-terra>=0.22->qiskit-ibm-runtime) (0.1.2)\n",
            "Requirement already satisfied: dill>=0.3 in /usr/local/lib/python3.7/dist-packages (from qiskit-terra>=0.22->qiskit-ibm-runtime) (0.3.6)\n",
            "Requirement already satisfied: retworkx>=0.11.0 in /usr/local/lib/python3.7/dist-packages (from qiskit-terra>=0.22->qiskit-ibm-runtime) (0.12.1)\n",
            "Requirement already satisfied: sympy>=1.3 in /usr/local/lib/python3.7/dist-packages (from qiskit-terra>=0.22->qiskit-ibm-runtime) (1.7.1)\n",
            "Requirement already satisfied: stevedore>=3.0.0 in /usr/local/lib/python3.7/dist-packages (from qiskit-terra>=0.22->qiskit-ibm-runtime) (3.5.2)\n",
            "Requirement already satisfied: zipp>=0.5 in /usr/local/lib/python3.7/dist-packages (from importlib-metadata<5.0->qiskit-terra>=0.22->qiskit-ibm-runtime) (3.10.0)\n",
            "Requirement already satisfied: certifi>=2017.4.17 in /usr/local/lib/python3.7/dist-packages (from requests>=2.19->qiskit-ibm-runtime) (2022.9.24)\n",
            "Requirement already satisfied: charset-normalizer<3,>=2 in /usr/local/lib/python3.7/dist-packages (from requests>=2.19->qiskit-ibm-runtime) (2.1.1)\n",
            "Requirement already satisfied: idna<4,>=2.5 in /usr/local/lib/python3.7/dist-packages (from requests>=2.19->qiskit-ibm-runtime) (2.10)\n",
            "Requirement already satisfied: ntlm-auth>=1.0.2 in /usr/local/lib/python3.7/dist-packages (from requests-ntlm>=1.1.0->qiskit-ibm-runtime) (1.5.0)\n",
            "Requirement already satisfied: cryptography>=1.3 in /usr/local/lib/python3.7/dist-packages (from requests-ntlm>=1.1.0->qiskit-ibm-runtime) (38.0.4)\n",
            "Requirement already satisfied: cffi>=1.12 in /usr/local/lib/python3.7/dist-packages (from cryptography>=1.3->requests-ntlm>=1.1.0->qiskit-ibm-runtime) (1.15.1)\n",
            "Requirement already satisfied: pycparser in /usr/local/lib/python3.7/dist-packages (from cffi>=1.12->cryptography>=1.3->requests-ntlm>=1.1.0->qiskit-ibm-runtime) (2.21)\n",
            "Requirement already satisfied: rustworkx==0.12.1 in /usr/local/lib/python3.7/dist-packages (from retworkx>=0.11.0->qiskit-terra>=0.22->qiskit-ibm-runtime) (0.12.1)\n",
            "Requirement already satisfied: pbr!=2.1.0,>=2.0.0 in /usr/local/lib/python3.7/dist-packages (from stevedore>=3.0.0->qiskit-terra>=0.22->qiskit-ibm-runtime) (5.11.0)\n",
            "Requirement already satisfied: mpmath>=0.19 in /usr/local/lib/python3.7/dist-packages (from sympy>=1.3->qiskit-terra>=0.22->qiskit-ibm-runtime) (1.2.1)\n",
            "Building wheels for collected packages: ibm-platform-services\n",
            "  Building wheel for ibm-platform-services (PEP 517) ... \u001b[?25l\u001b[?25hdone\n",
            "  Created wheel for ibm-platform-services: filename=ibm_platform_services-0.29.0-py3-none-any.whl size=249990 sha256=c6f82a1e16ddee58482d58e5c7063959b852c90b86125efbc112f1dd400e9eab\n",
            "  Stored in directory: /root/.cache/pip/wheels/18/f3/40/689e45ef737046b3bd59cc35cb82ec5ccdff152e56635116ac\n",
            "Successfully built ibm-platform-services\n",
            "Installing collected packages: urllib3, requests, PyJWT, ibm-cloud-sdk-core, websocket-client, ibm-platform-services, qiskit-ibm-runtime\n",
            "  Attempting uninstall: urllib3\n",
            "    Found existing installation: urllib3 1.24.3\n",
            "    Uninstalling urllib3-1.24.3:\n",
            "      Successfully uninstalled urllib3-1.24.3\n",
            "  Attempting uninstall: requests\n",
            "    Found existing installation: requests 2.23.0\n",
            "    Uninstalling requests-2.23.0:\n",
            "      Successfully uninstalled requests-2.23.0\n",
            "  Attempting uninstall: websocket-client\n",
            "    Found existing installation: websocket-client 1.4.2\n",
            "    Uninstalling websocket-client-1.4.2:\n",
            "      Successfully uninstalled websocket-client-1.4.2\n",
            "Successfully installed PyJWT-2.6.0 ibm-cloud-sdk-core-3.16.0 ibm-platform-services-0.29.0 qiskit-ibm-runtime-0.8.0 requests-2.28.1 urllib3-1.26.13 websocket-client-1.3.3\n"
          ]
        }
      ],
      "source": [
        "!pip install qutip\n",
        "!pip install qiskit\n",
        "!pip install qiskit_experiments\n",
        "!pip install qiskit-ibm-runtime -U\n",
        "#!pip install pylatexenc"
      ],
      "id": "KU6xGnZwJ3GR"
    },
    {
      "cell_type": "code",
      "execution_count": null,
      "metadata": {
        "colab": {
          "base_uri": "https://localhost:8080/"
        },
        "id": "d8517e74",
        "outputId": "00499c61-373b-4138-e982-95c05fa2095d"
      },
      "outputs": [
        {
          "data": {
            "text/plain": [
              "<qiskit.circuit.instructionset.InstructionSet at 0x7fa213e4b710>"
            ]
          },
          "execution_count": 5,
          "metadata": {},
          "output_type": "execute_result"
        }
      ],
      "source": [
        "U1a=QuantumCircuit(8)\n",
        "for i in range(2,4):\n",
        "    U1a.x(i)\n",
        "    U1a.x(i+4)\n",
        "U1a.mct([1,2,3,4,5,6,7],0)\n",
        "U1a.x(0)\n",
        "U1a.mct([0,2,3,4,5,6,7],1)\n",
        "U1a.x(1)\n",
        "U1a.mct([0,1,2,3,5,6,7],4)\n",
        "U1a.x(4)\n",
        "U1a.append(r120,[0,1,2,3,4,7,6,5])\n",
        "U1a.x(4)\n",
        "U1a.mct([0,1,2,3,5,6,7],4)\n",
        "U1a.x(1)\n",
        "U1a.mct([0,2,3,4,5,6,7],1)\n",
        "U1a.x(0)\n",
        "U1a.mct([1,2,3,4,5,6,7],0)\n",
        "for i in range(2,4):\n",
        "    U1a.x(i)\n",
        "    U1a.x(i+4)\n",
        "#U1a.decompose().draw()\n",
        "\n",
        "\n",
        "#####################################################################\n",
        "####################################################################\n",
        "#####################################################################\n",
        "\n",
        "U1b=QuantumCircuit(8)\n",
        "for i in range(2,4):\n",
        "    U1b.x(i)\n",
        "U1b.x(5)\n",
        "U1b.mct([0,1,2,3,5,6,7],4)\n",
        "U1b.x(5)\n",
        "U1b.mct([0,1,2,3,4,6,7],5)\n",
        "U1b.mct([0,1,2,3,4,5,7],6)\n",
        "U1b.x(6)\n",
        "U1b.append(r110,[0,1,2,3,4,5,6,7])\n",
        "U1b.x(6)\n",
        "U1b.mct([0,1,2,3,4,5,7],6)\n",
        "U1b.mct([0,1,2,3,4,6,7],5)\n",
        "U1b.x(5)\n",
        "U1b.mct([0,1,2,3,6,5,7],4)\n",
        "for i in range(2,4):\n",
        "    U1b.x(i)\n",
        "U1b.x(5)\n",
        "#####################################################################\n",
        "####################################################################\n",
        "#####################################################################\n",
        "U1c=QuantumCircuit(8)\n",
        "for i in range(0,4):\n",
        "    U1c.x(i)\n",
        "U1c.mct([0,1,2,3,4,6,7],5)\n",
        "U1c.x(5)\n",
        "U1c.mct([0,1,2,3,5,6,7],4)\n",
        "U1c.x(1)\n",
        "U1c.x(4)\n",
        "U1c.mct([0,2,3,4,5,6,7],1)\n",
        "U1c.x(0)\n",
        "U1c.append(r100,[7,1,2,3,4,5,6,0])\n",
        "U1c.x(0)\n",
        "U1c.mct([0,2,3,4,5,6,7],1)\n",
        "U1c.x(4)\n",
        "U1c.x(1)\n",
        "U1c.mct([0,1,2,3,5,6,7],4)\n",
        "U1c.x(5)\n",
        "U1c.mct([0,1,2,3,4,6,7],5)\n",
        "for i in range(0,4):\n",
        "    U1c.x(i)\n",
        "#U1c.decompose().draw()\n",
        "\n",
        "#####################################################################\n",
        "####################################################################\n",
        "#####################################################################\n",
        "\n",
        "U1=QuantumCircuit(8)\n",
        "U1.append(U1a,[0,1,2,3,4,5,6,7])\n",
        "U1.append(U1b,[0,1,2,3,4,5,6,7])\n",
        "U1.append(U1c,[0,1,2,3,4,5,6,7])"
      ],
      "id": "d8517e74"
    },
    {
      "cell_type": "code",
      "execution_count": null,
      "metadata": {
        "colab": {
          "base_uri": "https://localhost:8080/"
        },
        "id": "34a344eb",
        "outputId": "71937206-3bb9-46fc-82b4-2819c12f6ccb"
      },
      "outputs": [
        {
          "data": {
            "text/plain": [
              "<qiskit.circuit.instructionset.InstructionSet at 0x7fa2140bf310>"
            ]
          },
          "execution_count": 6,
          "metadata": {},
          "output_type": "execute_result"
        }
      ],
      "source": [
        "U160=QuantumCircuit(8)\n",
        "for i in range(2,4):\n",
        "    U160.x(i)\n",
        "    U160.x(i+4)\n",
        "\n",
        "U160.mct([0,1,2,3,4,6,7],5)\n",
        "U160.x(5)\n",
        "U160.mct([0,7,2,6,1,3,5],4)\n",
        "U160.x(4)\n",
        "U160.x(3)\n",
        "U160.mct([0,7,2,4,1,6,5],3)\n",
        "\n",
        "U160.x(2)\n",
        "U160.append(r160,[0,1,7,3,4,5,6,2])\n",
        "#U160.mct([0,1,3,4,5,6,7],2)\n",
        "U160.x(2)\n",
        "U160.mct([0,7,2,4,1,6,5],3)\n",
        "U160.x(4)\n",
        "U160.x(3)\n",
        "U160.mct([0,7,2,6,1,3,5],4)\n",
        "U160.x(5)\n",
        "\n",
        "U160.mct([0,1,2,3,4,6,7],5)\n",
        "for i in range(2,4):\n",
        "    U160.x(i)\n",
        "    U160.x(i+4)\n",
        "\n",
        "##################################################################################################\n",
        "#################################################################################################\n",
        "#################################################################################################\n",
        "\n",
        "\n",
        "U161=QuantumCircuit(8)\n",
        "for i in range(2,4):\n",
        "    U161.x(i)\n",
        "U161.x(5)\n",
        "U161.mct([0,1,2,3,5,6,7],4)\n",
        "U161.x(5)\n",
        "U161.mct([0,1,2,3,4,6,7],5)\n",
        "U161.mct([0,1,2,3,4,5,7],6)\n",
        "U161.x(6)\n",
        "U161.append(r162,[0,1,2,3,4,5,6,7])\n",
        "U161.x(6)\n",
        "U161.mct([0,1,2,3,4,5,7],6)\n",
        "U161.mct([0,1,2,3,4,6,7],5)\n",
        "U161.x(5)\n",
        "U161.mct([0,1,2,3,6,5,7],4)\n",
        "for i in range(2,4):\n",
        "    U161.x(i)\n",
        "U161.x(5)\n",
        "\n",
        "\n",
        "#################################################################################################\n",
        "#################################################################################################\n",
        "#################################################################################################\n",
        "U162=QuantumCircuit(8)\n",
        "for i in range(0,4):\n",
        "    U162.x(i)\n",
        "U162.mct([0,1,2,3,4,6,7],5)\n",
        "U162.x(5)\n",
        "U162.mct([0,1,2,3,5,6,7],4)\n",
        "U162.x(1)\n",
        "U162.x(4)\n",
        "U162.mct([0,2,3,4,5,6,7],1)\n",
        "U162.x(0)\n",
        "U162.append(r161,[7,1,2,3,4,5,6,0])\n",
        "U162.x(0)\n",
        "U162.mct([0,2,3,4,5,6,7],1)\n",
        "U162.x(4)\n",
        "U162.x(1)\n",
        "U162.mct([0,1,2,3,5,6,7],4)\n",
        "U162.x(5)\n",
        "U162.mct([0,1,2,3,4,6,7],5)\n",
        "for i in range(0,4):\n",
        "    U162.x(i)\n",
        "\n",
        "\n",
        "\n",
        "\n",
        "\n",
        "\n",
        "\n",
        "\n",
        "#################################################################################################\n",
        "#################################################################################################\n",
        "#################################################################################################\n",
        "\n",
        "U16=QuantumCircuit(8)\n",
        "\n",
        "U16.append(U160,[0,1,2,3,4,5,6,7])\n",
        "U16.append(U161,[0,1,2,3,4,5,6,7])\n",
        "U16.append(U162,[0,1,2,3,4,5,6,7])\n",
        "\n"
      ],
      "id": "34a344eb"
    },
    {
      "cell_type": "code",
      "execution_count": null,
      "metadata": {
        "id": "6a5b33f8"
      },
      "outputs": [],
      "source": [
        "iU16=U16.inverse()\n",
        "iU1=U1.inverse()"
      ],
      "id": "6a5b33f8"
    },
    {
      "cell_type": "code",
      "execution_count": null,
      "metadata": {
        "colab": {
          "base_uri": "https://localhost:8080/"
        },
        "id": "719ce439",
        "outputId": "da01899e-e3f4-447d-dbc3-3b4879532ae3"
      },
      "outputs": [
        {
          "data": {
            "text/plain": [
              "<qiskit.circuit.instructionset.InstructionSet at 0x7fa21397d890>"
            ]
          },
          "execution_count": 8,
          "metadata": {},
          "output_type": "execute_result"
        }
      ],
      "source": [
        "U40=QuantumCircuit(8)\n",
        "\n",
        "U40.x(1)\n",
        "for i in range(2,4):\n",
        "    U40.x(i)\n",
        "    U40.x(i+4)\n",
        "U40.mct([5,7,2,3,4,6,1],0)\n",
        "U40.x(1)\n",
        "U40.mct([0,7,2,3,5,6,4],1)\n",
        "U40.mct([0,7,2,3,1,6,5],4)\n",
        "U40.x(4)\n",
        "U40.append(r400,[0,1,2,3,4,7,6,5])\n",
        "U40.x(4)\n",
        "U40.mct([0,7,2,3,1,6,5],4)\n",
        "U40.mct([0,7,2,3,5,6,4],1)\n",
        "U40.x(1)\n",
        "U40.mct([5,7,2,3,4,6,1],0)\n",
        "U40.x(1)\n",
        "for i in range(2,4):\n",
        "    U40.x(i)\n",
        "    U40.x(i+4)\n",
        "#U40.decompose().draw()\n",
        "\n",
        "#############################################################\n",
        "#############################################################\n",
        "#############################################################\n",
        "\n",
        "\n",
        "U41=QuantumCircuit(8)\n",
        "for i in range(0,4):\n",
        "    U41.x(i)\n",
        "U41.x(5)\n",
        "U41.mct([0,7,2,3,1,6,5],4)\n",
        "U41.x(5)\n",
        "U41.mct([0,7,2,3,1,6,4],5)\n",
        "U41.mct([0,7,2,3,1,4,5],6)\n",
        "U41.x(6)\n",
        "U41.append(r401,[0,1,2,3,4,5,6,7])\n",
        "U41.x(6)\n",
        "U41.mct([0,7,2,3,1,4,5],6)\n",
        "U41.mct([0,7,2,3,1,6,4],5)\n",
        "U41.x(5)\n",
        "U41.mct([0,7,2,3,1,6,5],4)\n",
        "for i in range(0,4):\n",
        "    U41.x(i)\n",
        "U41.x(5)\n",
        "\n",
        "##############################################################\n",
        "##############################################################\n",
        "##############################################################\n",
        "\n",
        "U4=QuantumCircuit(8)\n",
        "\n",
        "U4.append(U40,[0,1,2,3,4,5,6,7])\n",
        "U4.append(U41,[0,1,2,3,4,5,6,7])\n",
        "#U41.decompose().draw()"
      ],
      "id": "719ce439"
    },
    {
      "cell_type": "code",
      "execution_count": null,
      "metadata": {
        "colab": {
          "base_uri": "https://localhost:8080/"
        },
        "id": "5a9eaf9f",
        "outputId": "4c395e8f-c823-40af-81a1-f921d5cc5670"
      },
      "outputs": [
        {
          "data": {
            "text/plain": [
              "<qiskit.circuit.instructionset.InstructionSet at 0x7fa213409e50>"
            ]
          },
          "execution_count": 9,
          "metadata": {},
          "output_type": "execute_result"
        }
      ],
      "source": [
        "U130=QuantumCircuit(8)\n",
        "\n",
        "for i in range(0,2):\n",
        "    U130.x(i)\n",
        "    U130.x(i+6)\n",
        "U130.x(2)\n",
        "U130.mct([0,1,2,7,4,5,6],3)\n",
        "U130.x(2)\n",
        "U130.mct([0,1,7,3,4,5,6],2)\n",
        "U130.mct([0,1,2,3,7,5,6],4)\n",
        "U130.x(4)\n",
        "U130.mct([0,1,2,3,4,7,6],5)\n",
        "#U130.append(r160,[0,1,2,3,4,7,6,5])\n",
        "U130.x(4)\n",
        "U130.mct([0,1,2,3,7,5,6],4)\n",
        "U130.mct([0,1,7,3,4,5,6],2)\n",
        "U130.x(2)\n",
        "U130.mct([0,1,2,7,4,5,6],3)\n",
        "U130.x(2)\n",
        "for i in range(0,2):\n",
        "    U130.x(i)\n",
        "    U130.x(i+6)\n",
        "\n",
        "########################################################\n",
        "########################################################\n",
        "##########################################################\n",
        "\n",
        "\n",
        "U131=QuantumCircuit(8)\n",
        "for i in range(0,4):\n",
        "    U131.x(i)\n",
        "U131.x(5)\n",
        "U131.mct([0,7,2,3,1,6,5],4)\n",
        "U131.x(5)\n",
        "U131.mct([0,7,2,3,1,6,4],5)\n",
        "U131.mct([0,7,2,3,1,4,5],6)\n",
        "U131.x(6)\n",
        "U131.append(r13,[0,1,2,3,4,5,6,7])\n",
        "U131.x(6)\n",
        "U131.mct([0,7,2,3,1,4,5],6)\n",
        "U131.mct([0,7,2,3,1,6,4],5)\n",
        "U131.x(5)\n",
        "U131.mct([0,7,2,3,1,6,5],4)\n",
        "for i in range(0,4):\n",
        "    U131.x(i)\n",
        "U131.x(5)\n",
        "\n",
        "\n",
        "########################################################\n",
        "#############################################\n",
        "#########################################################\n",
        "\n",
        "\n",
        "U13=QuantumCircuit(8)\n",
        "\n",
        "\n",
        "U13.append(U130,[0,1,2,3,4,5,6,7])\n",
        "U13.append(U131,[0,1,2,3,4,5,6,7])\n",
        "\n",
        "\n"
      ],
      "id": "5a9eaf9f"
    },
    {
      "cell_type": "code",
      "execution_count": null,
      "metadata": {
        "colab": {
          "base_uri": "https://localhost:8080/"
        },
        "id": "48ab278e",
        "outputId": "fdcb4265-5715-4a7f-b9bd-27e4f60f26e2"
      },
      "outputs": [
        {
          "data": {
            "text/plain": [
              "<qiskit.circuit.instructionset.InstructionSet at 0x7fa2134f92d0>"
            ]
          },
          "execution_count": 10,
          "metadata": {},
          "output_type": "execute_result"
        }
      ],
      "source": [
        "\n",
        "U20=QuantumCircuit(8)\n",
        "for i in range(2,5):\n",
        "    U20.x(i)\n",
        "for i in range(6,8):\n",
        "    U20.x(i)\n",
        "U20.mct([0,7,2,3,4,6,1],5)\n",
        "U20.x(5)\n",
        "#U20.append(r120,[0,7,2,3,4,5,6,1])\n",
        "U20.mct([0,7,2,3,4,6,5],1)\n",
        "U20.x(5)\n",
        "U20.mct([0,7,2,3,4,6,1],5)\n",
        "for i in range(2,5):\n",
        "    U20.x(i)\n",
        "for i in range(6,8):\n",
        "    U20.x(i)\n",
        "#U20.decompose().draw()\n",
        "\n",
        "########################################################\n",
        "#############################################\n",
        "#########################################################\n",
        "\n",
        "U21=QuantumCircuit(8)\n",
        "for i in range(1,5):\n",
        "    U21.x(i)\n",
        "\n",
        "U21.mct([1,2,3,4,5,6,7],0)\n",
        "U21.x(1)\n",
        "U21.mct([0,2,3,4,5,6,7],1)\n",
        "U21.mct([0,2,3,4,5,7,1],6)\n",
        "U21.x(6)\n",
        "U21=U21.compose(cqc20,range(8))\n",
        "U21.x(6)\n",
        "U21.mct([0,2,3,4,5,7,1],6)\n",
        "U21.mct([0,2,3,4,5,6,7],1)\n",
        "U21.x(1)\n",
        "U21.mct([1,2,3,4,5,6,7],0)\n",
        "for i in range(1,5):\n",
        "     U21.x(i)\n",
        "\n",
        "#U21.draw()\n",
        "#################################\n",
        "U2=QuantumCircuit(8)\n",
        "\n",
        "U2.append(U20,[0,1,2,3,4,5,6,7])\n",
        "U2.append(U21,[0,1,2,3,4,5,6,7])\n",
        "#U2.draw()\n"
      ],
      "id": "48ab278e"
    },
    {
      "cell_type": "code",
      "execution_count": null,
      "metadata": {
        "id": "46375bbd"
      },
      "outputs": [],
      "source": [
        "U30=QuantumCircuit(8)\n",
        "\n",
        "U30.x(2)\n",
        "U30.x(3)\n",
        "for i in range(5,8):\n",
        "    U30.x(i)\n",
        "U30.mct([0,1,2,3,5,6,7],4)\n",
        "\n",
        "U30.x(4)\n",
        "U30.mct([1,2,3,4,5,6,7],0)\n",
        "U30.x(4)\n",
        "U30.mct([0,1,2,3,5,6,7],4)\n",
        "\n",
        "\n",
        "U30.x(2)\n",
        "U30.x(3)\n",
        "for i in range(5,8):\n",
        "    U30.x(i)\n",
        "\n",
        "#############################################\n",
        "############################################\n",
        "#############################################\n",
        "\n",
        "U31=QuantumCircuit(8)\n",
        "\n",
        "for i in range(1,4):\n",
        "    U31.x(i)\n",
        "\n",
        "U31.x(5)\n",
        "U31.mct([1,2,3,4,5,6,7],0)\n",
        "U31.x(1)\n",
        "\n",
        "U31.mct([0,2,3,4,5,6,7],1)\n",
        "\n",
        "U31.mct([0,1,2,3,4,5,7],6)\n",
        "\n",
        "U31.x(6)\n",
        "U31=U31.compose(cqc20,range(8))\n",
        "U31.x(6)\n",
        "U31.mct([0,1,2,3,4,5,7],6)\n",
        "\n",
        "U31.mct([0,2,3,4,5,6,7],1)\n",
        "\n",
        "U31.x(1)\n",
        "U31.mct([1,2,3,4,5,6,7],0)\n",
        "\n",
        "U31.x(5)\n",
        "\n",
        "for i in range(1,4):\n",
        "    U31.x(i)\n",
        "#U31.draw()\n",
        "\n",
        "#######################################\n",
        "############################################\n",
        "#############################################\n",
        "\n",
        "U3=QuantumCircuit(8)\n",
        "#U3.x(1)\n",
        "U3.append(U30,[0,1,2,3,4,5,6,7])\n",
        "U3.append(U31,[0,1,2,3,4,5,6,7])\n",
        "###################################################\n",
        "###################################################\n",
        "##################################################\n",
        "\n",
        "\n",
        "U50=QuantumCircuit(8)\n",
        "for i in range(2,7):\n",
        "    U50.x(i)\n",
        "U50.mct([1,2,3,4,5,6,7],0)\n",
        "U50.x(0)\n",
        "U50.mct([0,2,3,4,5,6,7],1)\n",
        "U50.x(1)\n",
        "U50.x(2)\n",
        "U50.mct([0,6,3,4,5,7,1],2)\n",
        "\n",
        "U50.mct([0,1,2,3,4,5,6],7)\n",
        "U50.mct([0,6,3,4,5,7,1],2)\n",
        "U50.x(1)\n",
        "U50.x(2)\n",
        "U50.mct([0,2,3,4,5,6,7],1)\n",
        "U50.x(0)\n",
        "U50.mct([1,2,3,4,5,6,7],0)\n",
        "for i in range(2,7):\n",
        "    U50.x(i)\n",
        "#U50.draw()\n",
        "############################################################\n",
        "###########################################################\n",
        "U51=QuantumCircuit(8)\n",
        "for i in range(0,4):\n",
        "    U51.x(i)\n",
        "U51.x(6)\n",
        "U51.mct([0,7,2,3,4,6,1],5)\n",
        "U51.x(5)\n",
        "U51.mct([0,7,2,3,5,6,1],4)\n",
        "U51.x(4)\n",
        "U51.x(1)\n",
        "U51.mct([0,7,2,3,4,6,5],1)\n",
        "U51.x(0)\n",
        "U51.append(r200,[7,1,2,3,4,5,6,0])\n",
        "U51.x(0)\n",
        "U51.mct([0,7,2,3,4,6,5],1)\n",
        "U51.x(1)\n",
        "U51.x(4)\n",
        "U51.mct([0,7,2,3,5,6,1],4)\n",
        "U51.x(5)\n",
        "U51.mct([0,7,2,3,4,6,1],5)\n",
        "for i in range(0,4):\n",
        "    U51.x(i)\n",
        "U51.x(6)\n",
        "#U51.draw()\n",
        "#########################################################\n",
        "#########################################################\n",
        "#########################################################\n",
        "\n",
        "\n",
        "U5=QuantumCircuit(8)\n",
        "\n",
        "\n",
        "for i in range(2,7):\n",
        "    U5.x(i)\n",
        "U5.mct([1,2,3,4,5,6,7],0)\n",
        "U5.x(0)\n",
        "U5.mct([0,2,3,4,5,6,7],1)\n",
        "U5.x(1)\n",
        "U5.x(2)\n",
        "U5.mct([0,6,3,4,5,7,1],2)\n",
        "\n",
        "U5.mct([0,1,2,3,4,5,6],7)\n",
        "U5.mct([0,6,3,4,5,7,1],2)\n",
        "U5.x(1)\n",
        "U5.x(2)\n",
        "U5.mct([0,2,3,4,5,6,7],1)\n",
        "U5.x(0)\n",
        "U5.mct([1,2,3,4,5,6,7],0)\n",
        "for i in range(2,7):\n",
        "    U5.x(i)\n",
        "\n",
        "\n",
        "for i in range(0,4):\n",
        "    U5.x(i)\n",
        "U5.x(6)\n",
        "U5.mct([0,7,2,3,4,6,1],5)\n",
        "U5.x(5)\n",
        "U5.mct([0,7,2,3,5,6,1],4)\n",
        "U5.x(4)\n",
        "U5.x(1)\n",
        "U5.mct([0,7,2,3,4,6,5],1)\n",
        "U5.x(0)\n",
        "U5.append(r200,[7,1,2,3,4,5,6,0])\n",
        "U5.x(0)\n",
        "U5.mct([0,7,2,3,4,6,5],1)\n",
        "U5.x(1)\n",
        "U5.x(4)\n",
        "U5.mct([0,7,2,3,5,6,1],4)\n",
        "U5.x(5)\n",
        "U5.mct([0,7,2,3,4,6,1],5)\n",
        "for i in range(0,4):\n",
        "    U5.x(i)\n",
        "U5.x(6)\n",
        "#U5.draw()\n",
        "\n",
        "#########################################################\n",
        "#########################################################\n",
        "#########################################################\n",
        "\n",
        "U6=QuantumCircuit(8)\n",
        "\n",
        "U6.x(6)\n",
        "for i in range(1,5):\n",
        "    U6.x(i)\n",
        "U6.mct([1,2,3,4,5,6,7],0)\n",
        "U6.x(2)\n",
        "U6.mct([1,0,3,4,5,6,7],2)\n",
        "U6.mct([1,2,3,4,0,6,7],5)\n",
        "U6.x(5)\n",
        "#U6.append(r120,[0,1,2,3,4,5,6,7])\n",
        "U6.mct([0,1,2,3,4,5,6],7)\n",
        "U6.x(5)\n",
        "U6.mct([1,2,3,4,0,6,7],5)\n",
        "U6.mct([1,0,3,4,5,6,7],2)\n",
        "U6.x(2)\n",
        "U6.mct([1,2,3,4,5,6,7],0)\n",
        "U6.x(6)\n",
        "for i in range(1,5):\n",
        "    U6.x(i)\n",
        "#U6.decompose().draw()\n",
        "#########################################################\n",
        "#########################################################\n",
        "#########################################################\n",
        "\n",
        "U7=QuantumCircuit(8)\n",
        "\n",
        "\n",
        "\n",
        "U7.x(0)\n",
        "for i in range(2,4):\n",
        "    U7.x(i)\n",
        "    U7.x(i+3)\n",
        "U7.mct([0,2,3,4,5,6,7],1)\n",
        "U7.x(2)\n",
        "U7.mct([1,0,3,4,5,6,7],2)\n",
        "U7.mct([1,2,3,5,0,6,7],4)\n",
        "U7.x(4)\n",
        "U7.mct([0,1,2,3,4,5,6],7)\n",
        "U7.x(4)\n",
        "U7.mct([1,2,3,5,0,6,7],4)\n",
        "U7.mct([1,0,3,4,5,6,7],2)\n",
        "U7.x(2)\n",
        "U7.mct([0,2,3,4,5,6,7],1)\n",
        "U7.x(0)\n",
        "for i in range(2,4):\n",
        "    U7.x(i)\n",
        "    U7.x(i+3)\n",
        "#U7.draw()\n",
        "\n",
        "#########################################################\n",
        "#########################################################\n",
        "#########################################################\n",
        "\n",
        "U8=QuantumCircuit(8)\n",
        "\n",
        "\n",
        "for i in range(1,7):\n",
        "    U8.x(i)\n",
        "U8.mct([1,2,3,4,5,6,7],0)\n",
        "U8.x(1)\n",
        "U8.mct([0,2,3,4,5,6,7],1)\n",
        "U8.x(2)\n",
        "U8.mct([1,4,3,5,0,6,7],2)\n",
        "#U8=U8.compose(cqc12,range(8))\n",
        "U8.mct([1,4,3,5,0,6,2],7)\n",
        "U8.mct([1,4,3,5,0,6,7],2)\n",
        "U8.x(2)\n",
        "U8.mct([2,0,3,4,5,6,7],1)\n",
        "U8.x(1)\n",
        "U8.mct([1,2,3,4,5,6,7],0)\n",
        "for i in range(1,7):\n",
        "    U8.x(i)\n",
        "#U8.draw()\n"
      ],
      "id": "46375bbd"
    },
    {
      "cell_type": "code",
      "execution_count": null,
      "metadata": {
        "colab": {
          "base_uri": "https://localhost:8080/"
        },
        "id": "599697ff",
        "outputId": "e9facf09-241c-4e69-9de1-570e8dca6f4d"
      },
      "outputs": [
        {
          "data": {
            "text/plain": [
              "<qiskit.circuit.instructionset.InstructionSet at 0x7fa2135b1cd0>"
            ]
          },
          "execution_count": 12,
          "metadata": {},
          "output_type": "execute_result"
        }
      ],
      "source": [
        "U90=QuantumCircuit(8)\n",
        "for i in range(2,6):\n",
        "    U90.x(i)\n",
        "U90.x(7)\n",
        "U90.mct([1,2,3,4,5,6,7],0)\n",
        "U90.x(0)\n",
        "U90.mct([0,2,3,4,5,6,7],1)\n",
        "U90.x(1)\n",
        "U90.x(3)\n",
        "U90.mct([1,4,2,5,0,6,7],3)\n",
        "U90.mct([0,1,2,3,4,5,7],6)\n",
        "U90.mct([1,4,2,5,0,6,7],3)\n",
        "U90.x(1)\n",
        "U90.x(3)\n",
        "U90.mct([0,2,3,4,5,6,7],1)\n",
        "U90.x(0)\n",
        "U90.mct([1,2,3,4,5,6,7],0)\n",
        "U90.x(7)\n",
        "for i in range(2,6):\n",
        "    U90.x(i)\n",
        "#U90.draw()\n",
        "\n",
        "###################################################\n",
        "##################################################\n",
        "##################################################\n",
        "\n",
        "U91=QuantumCircuit(8)\n",
        "\n",
        "\n",
        "U91.x(2)\n",
        "U91.x(3)\n",
        "U91.x(4)\n",
        "U91.x(7)\n",
        "U91.mct([0,1,2,3,4,6,7],5)\n",
        "U91.x(4)\n",
        "U91.mct([0,1,2,3,5,6,7],4)\n",
        "\n",
        "U91.mct([0,4,2,3,5,6,7],1)\n",
        "\n",
        "U91.x(1)\n",
        "U91.append(r200,[7,1,2,3,4,5,6,0])\n",
        "U91.x(1)\n",
        "U91.mct([0,4,2,3,5,6,7],1)\n",
        "\n",
        "U91.mct([0,1,2,3,5,6,7],4)\n",
        "U91.x(4)\n",
        "U91.mct([0,1,2,3,4,6,7],5)\n",
        "\n",
        "U91.x(2)\n",
        "U91.x(3)\n",
        "U91.x(4)\n",
        "U91.x(7)\n",
        "\n",
        "##########################################################\n",
        "#########################################################\n",
        "#########################################################\n",
        "\n",
        "U9=QuantumCircuit(8)\n",
        "\n",
        "U9.append(U90,[0,1,2,3,4,5,6,7])\n",
        "U9.append(U91,[0,1,2,3,4,5,6,7])\n",
        "\n"
      ],
      "id": "599697ff"
    },
    {
      "cell_type": "code",
      "execution_count": null,
      "metadata": {
        "colab": {
          "base_uri": "https://localhost:8080/"
        },
        "id": "29d38092",
        "outputId": "bfa79f6a-e37b-4d22-904a-04c41abb93e6"
      },
      "outputs": [
        {
          "data": {
            "text/plain": [
              "<qiskit.circuit.instructionset.InstructionSet at 0x7fa212e5b910>"
            ]
          },
          "execution_count": 13,
          "metadata": {},
          "output_type": "execute_result"
        }
      ],
      "source": [
        "U90=QuantumCircuit(8)\n",
        "for i in range(2,6):\n",
        "    U90.x(i)\n",
        "U90.x(7)\n",
        "U90.mct([1,2,3,4,5,6,7],0)\n",
        "U90.x(0)\n",
        "U90.mct([0,2,3,4,5,6,7],1)\n",
        "U90.x(1)\n",
        "U90.x(3)\n",
        "U90.mct([1,4,2,5,0,6,7],3)\n",
        "U90.mct([0,1,2,3,4,5,7],6)\n",
        "U90.mct([1,4,2,5,0,6,7],3)\n",
        "U90.x(1)\n",
        "U90.x(3)\n",
        "U90.mct([0,2,3,4,5,6,7],1)\n",
        "U90.x(0)\n",
        "U90.mct([1,2,3,4,5,6,7],0)\n",
        "U90.x(7)\n",
        "for i in range(2,6):\n",
        "    U90.x(i)\n",
        "#U90.draw()\n",
        "\n",
        "###################################################\n",
        "##################################################\n",
        "##################################################\n",
        "\n",
        "U91=QuantumCircuit(8)\n",
        "\n",
        "\n",
        "U91.x(2)\n",
        "U91.x(3)\n",
        "U91.x(4)\n",
        "U91.x(7)\n",
        "U91.mct([0,1,2,3,4,6,7],5)\n",
        "U91.x(4)\n",
        "U91.mct([0,1,2,3,5,6,7],4)\n",
        "\n",
        "U91.mct([0,4,2,3,5,6,7],1)\n",
        "\n",
        "U91.x(1)\n",
        "U91.append(r200,[7,1,2,3,4,5,6,0])\n",
        "U91.x(1)\n",
        "U91.mct([0,4,2,3,5,6,7],1)\n",
        "\n",
        "U91.mct([0,1,2,3,5,6,7],4)\n",
        "U91.x(4)\n",
        "U91.mct([0,1,2,3,4,6,7],5)\n",
        "\n",
        "U91.x(2)\n",
        "U91.x(3)\n",
        "U91.x(4)\n",
        "U91.x(7)\n",
        "\n",
        "##########################################################\n",
        "#########################################################\n",
        "#########################################################\n",
        "\n",
        "U9=QuantumCircuit(8)\n",
        "\n",
        "U9.append(U90,[0,1,2,3,4,5,6,7])\n",
        "U9.append(U91,[0,1,2,3,4,5,6,7])\n",
        "\n"
      ],
      "id": "29d38092"
    },
    {
      "cell_type": "code",
      "execution_count": null,
      "metadata": {
        "colab": {
          "base_uri": "https://localhost:8080/"
        },
        "id": "cc2733ad",
        "outputId": "1a698c2b-39fb-4fa4-e990-b412fff4aa1c"
      },
      "outputs": [
        {
          "data": {
            "text/plain": [
              "<qiskit.circuit.instructionset.InstructionSet at 0x7fa212d88f90>"
            ]
          },
          "execution_count": 14,
          "metadata": {},
          "output_type": "execute_result"
        }
      ],
      "source": [
        "\n",
        "r=QuantumCircuit(1)\n",
        "r.ry(pi/2,0)\n",
        "cqc=r.control(3)\n",
        "#cqc10.draw()\n",
        "nq=QuantumCircuit(4)\n",
        "nq=nq.compose(cqc,range(4))\n",
        "#nq.draw()\n",
        "\n",
        "\n",
        "##########################################\n",
        "nq1=QuantumCircuit(4)\n",
        "for i in range(1,4):\n",
        "    nq1.x(i)\n",
        "nq1.mct([1,2,3],0)\n",
        "nq1.x(1)\n",
        "nq1.mct([0,2,3],1)\n",
        "nq1.x(2)\n",
        "nq1.mct([0,1,3],2)\n",
        "nq1.x(3)\n",
        "nq1=nq1.compose(cqc,range(4))\n",
        "nq1.x(3)\n",
        "nq1.mct([0,1,3],2)\n",
        "nq1.x(2)\n",
        "nq1.mct([0,2,3],1)\n",
        "nq1.x(1)\n",
        "nq1.mct([1,2,3],0)\n",
        "for i in range(1,4):\n",
        "    nq1.x(i)\n",
        "#nq1.draw()\n",
        "\n",
        "##############################################\n",
        "nq2=QuantumCircuit(4)\n",
        "\n",
        "for i in range (2,4):\n",
        "    nq2.x(i)\n",
        "nq2.mct([1,2,3],0)\n",
        "nq2.x(0)\n",
        "nq2.mct([0,2,3],1)\n",
        "nq2.x(1)\n",
        "nq2.x(2)\n",
        "nq2.mct([0,1,3],2)\n",
        "nq2.x(3)\n",
        "nq2=nq2.compose(cqc,range(4))\n",
        "nq2.x(3)\n",
        "nq2.mct([0,1,3],2)\n",
        "nq2.x(2)\n",
        "nq2.x(1)\n",
        "nq2.mct([0,2,3],1)\n",
        "nq2.x(0)\n",
        "nq2.mct([1,2,3],0)\n",
        "for i in range (2,4):\n",
        "    nq2.x(i)\n",
        "#nq2.draw()\n",
        "\n",
        "##################################################\n",
        "\n",
        "nqh=QuantumCircuit(4)\n",
        "nqh.append(nq1,[0,1,2,3])\n",
        "nqh.append(nq2,[0,1,2,3])\n",
        "#nqh.draw()\n"
      ],
      "id": "cc2733ad"
    },
    {
      "cell_type": "code",
      "execution_count": null,
      "metadata": {
        "colab": {
          "base_uri": "https://localhost:8080/"
        },
        "id": "74912ffb",
        "outputId": "1063b1fa-1727-4926-9667-d42f082e379b"
      },
      "outputs": [
        {
          "data": {
            "text/plain": [
              "<qiskit.circuit.instructionset.InstructionSet at 0x7fa212faff10>"
            ]
          },
          "execution_count": 15,
          "metadata": {},
          "output_type": "execute_result"
        }
      ],
      "source": [
        "U10=QuantumCircuit(8)\n",
        "\n",
        "\n",
        "\n",
        "for i in range(1,5):\n",
        "    U10.x(i)\n",
        "U10.x(7)\n",
        "U10.mct([1,2,3,4,5,6,7],0)\n",
        "U10.x(3)\n",
        "U10.mct([0,2,1,4,5,6,7],3)\n",
        "U10.mct([1,3,2,4,0,6,7],5)\n",
        "U10.x(5)\n",
        "#U10.append(r120,[0,1,2,3,4,5,7,6])\n",
        "U10.mct([1,3,2,4,0,5,7],6)\n",
        "U10.x(5)\n",
        "U10.mct([1,3,2,4,0,6,7],5)\n",
        "U10.mct([0,2,1,4,5,6,7],3)\n",
        "U10.x(3)\n",
        "U10.mct([1,2,3,4,5,6,7],0)\n",
        "for i in range(1,5):\n",
        "    U10.x(i)\n",
        "U10.x(7)\n",
        "#U10.draw()\n",
        "\n",
        "\n",
        "####################################################\n",
        "####################################################\n",
        "####################################################\n",
        "\n",
        "U11=QuantumCircuit(8)\n",
        "\n",
        "\n",
        "for i in range(0,1):\n",
        "    U11.x(i)\n",
        "    U11.x(i+7)\n",
        "for i in range(2,4):\n",
        "    U11.x(i)\n",
        "    U11.x(i+3)\n",
        "U11.x(6)\n",
        "U11.mct([0,2,3,4,5,6,7],1)\n",
        "U11.x(3)\n",
        "U11.mct([0,2,1,4,5,6,7],3)\n",
        "\n",
        "U11.mct([1,3,2,5,0,6,7],4)\n",
        "#U11.append(r120,[0,1,2,3,4,5,7,6])\n",
        "U11.x(4)\n",
        "U11.mct([0,1,2,3,4,5,7],6)\n",
        "U11.x(4)\n",
        "U11.mct([1,3,2,5,0,6,7],4)\n",
        "\n",
        "U11.mct([0,2,1,4,5,6,7],3)\n",
        "U11.x(3)\n",
        "U11.mct([0,2,3,4,5,6,7],1)\n",
        "for i in range(0,1):\n",
        "    U11.x(i)\n",
        "    U11.x(i+7)\n",
        "for i in range(2,4):\n",
        "    U11.x(i)\n",
        "    U11.x(i+3)\n",
        "U11.x(6)\n",
        "#U11.draw()\n",
        "\n",
        "##################################################################\n",
        "#################################################################\n",
        "###################################################################\n",
        "\n",
        "\n",
        "U12=QuantumCircuit(8)\n",
        "\n",
        "\n",
        "for i in range(1,6):\n",
        "    U12.x(i)\n",
        "U12.x(7)\n",
        "U12.mct([1,2,3,4,5,6,7],0)\n",
        "U12.x(1)\n",
        "U12.mct([0,2,3,4,5,6,7],1)\n",
        "U12.x(3)\n",
        "U12.mct([1,5,2,4,0,6,7],3)\n",
        "U12.mct([1,2,3,4,5,0,7],6)\n",
        "U12.mct([1,5,2,4,0,6,7],3)\n",
        "U12.x(3)\n",
        "U12.mct([0,2,3,4,5,6,7],1)\n",
        "U12.x(1)\n",
        "U12.mct([1,2,3,4,5,6,7],0)\n",
        "for i in range(1,6):\n",
        "    U12.x(i)\n",
        "U12.x(7)\n",
        "#U12.draw()\n",
        "\n",
        "##############################################################\n",
        "###############################################################\n",
        "###############################################################\n",
        "\n",
        "U14=QuantumCircuit(8)\n",
        "\n",
        "\n",
        "for i in range(1,5):\n",
        "    U14.x(i)\n",
        "U14.x(6)\n",
        "U14.x(7)\n",
        "U14.mct([1,2,3,4,5,6,7],0)\n",
        "U14.x(2)\n",
        "U14.mct([0,1,3,4,5,6,7],2)\n",
        "U14.x(3)\n",
        "U14.mct([1,5,2,4,0,6,7],3)\n",
        "U14.mct([0,1,2,3,4,6,7],5)\n",
        "U14.mct([1,5,2,4,0,6,7],3)\n",
        "U14.x(3)\n",
        "U14.mct([0,1,3,4,5,6,7],2)\n",
        "U14.x(2)\n",
        "U14.mct([1,2,3,4,5,6,7],0)\n",
        "for i in range(1,5):\n",
        "    U14.x(i)\n",
        "U14.x(6)\n",
        "U14.x(7)\n",
        "#U14.draw()\n",
        "\n",
        "######################################################################\n",
        "####################################################################\n",
        "#####################################################################\n",
        "\n",
        "U15=QuantumCircuit(8)\n",
        "\n",
        "\n",
        "\n",
        "for i in range(5,8):\n",
        "    U15.x(i)\n",
        "U15.x(0)\n",
        "U15.x(2)\n",
        "U15.x(3)\n",
        "U15.mct([0,2,3,4,5,6,7],1)\n",
        "U15.x(2)\n",
        "U15.mct([0,1,3,4,5,6,7],2)\n",
        "U15.x(3)\n",
        "U15.mct([1,5,2,4,0,6,7],3)\n",
        "U15.mct([0,1,2,3,7,5,6],4)\n",
        "U15.mct([1,5,2,4,0,6,7],3)\n",
        "U15.x(3)\n",
        "U15.mct([0,1,3,4,5,6,7],2)\n",
        "U15.x(2)\n",
        "U15.mct([0,2,3,4,5,6,7],1)\n",
        "for i in range(5,8):\n",
        "    U15.x(i)\n",
        "U15.x(0)\n",
        "U15.x(2)\n",
        "U15.x(3)\n",
        "#U15.draw()"
      ],
      "id": "74912ffb"
    },
    {
      "cell_type": "code",
      "execution_count": null,
      "metadata": {
        "colab": {
          "base_uri": "https://localhost:8080/"
        },
        "id": "40c10f31",
        "outputId": "e5d9152e-2f10-43f5-fc1f-627eb4c1a3aa"
      },
      "outputs": [
        {
          "data": {
            "text/plain": [
              "<qiskit.circuit.instructionset.InstructionSet at 0x7fa212f2bbd0>"
            ]
          },
          "execution_count": 16,
          "metadata": {},
          "output_type": "execute_result"
        }
      ],
      "source": [
        "Us=QuantumCircuit(8)\n",
        "\n",
        "\n",
        "Us.append(iU16,[0,1,2,3,4,5,6,7])\n",
        "Us.append(U15,[0,1,2,3,4,5,6,7])\n",
        "Us.append(U14,[0,1,2,3,4,5,6,7])\n",
        "Us.append(U13,[0,1,2,3,4,5,6,7])\n",
        "Us.append(U12,[0,1,2,3,4,5,6,7])\n",
        "Us.append(U11,[0,1,2,3,4,5,6,7])\n",
        "Us.append(U10,[0,1,2,3,4,5,6,7])\n",
        "Us.append(U9,[0,1,2,3,4,5,6,7])\n",
        "Us.append(U8,[0,1,2,3,4,5,6,7])\n",
        "Us.append(U7,[0,1,2,3,4,5,6,7])\n",
        "Us.append(U6,[0,1,2,3,4,5,6,7])\n",
        "Us.append(U5,[0,1,2,3,4,5,6,7])\n",
        "Us.append(U4,[0,1,2,3,4,5,6,7])\n",
        "Us.append(U3,[0,1,2,3,4,5,6,7])\n",
        "Us.append(U2,[0,1,2,3,4,5,6,7])\n",
        "Us.append(U1,[0,1,2,3,4,5,6,7])\n",
        "Us.append(nqh,[0,1,2,3])"
      ],
      "id": "40c10f31"
    },
    {
      "cell_type": "code",
      "execution_count": null,
      "metadata": {
        "id": "saN8cLy_PzZF"
      },
      "outputs": [],
      "source": [
        "from qiskit_ibm_runtime import QiskitRuntimeService\n",
        "\n",
        "# Save an IBM Quantum account.\n",
        "QiskitRuntimeService.save_account(channel=\"ibm_quantum\",\n",
        "                                  token=\"6f4abee5310d26df250bfae2b7bfe6d1c5b0e1020ef11b810847501649ca139d100a39ddc19156bfefe0d99503f1ea76eb8b7d0f34fc2c7e00f4c4356badf810\",overwrite=True)"
      ],
      "id": "saN8cLy_PzZF"
    },
    {
      "cell_type": "code",
      "execution_count": null,
      "metadata": {
        "colab": {
          "background_save": true
        },
        "id": "FaMLVFT7Pzeg"
      },
      "outputs": [],
      "source": [
        "service = QiskitRuntimeService(channel=\"ibm_quantum\")\n",
        "real_device = service.get_backend(\"ibmq_guadalupe\")"
      ],
      "id": "FaMLVFT7Pzeg"
    },
    {
      "cell_type": "code",
      "execution_count": null,
      "metadata": {
        "id": "cxGzxen-Pzj3"
      },
      "outputs": [],
      "source": [],
      "id": "cxGzxen-Pzj3"
    },
    {
      "cell_type": "code",
      "execution_count": null,
      "metadata": {
        "id": "Ti4EdFpoPzpA"
      },
      "outputs": [],
      "source": [],
      "id": "Ti4EdFpoPzpA"
    },
    {
      "cell_type": "code",
      "execution_count": null,
      "metadata": {
        "colab": {
          "base_uri": "https://localhost:8080/"
        },
        "id": "faccc40a",
        "outputId": "9700b6d1-ec0e-4d25-97f4-a942e3aa2b5a"
      },
      "outputs": [
        {
          "name": "stderr",
          "output_type": "stream",
          "text": [
            "/usr/local/lib/python3.7/dist-packages/ipykernel_launcher.py:6: DeprecationWarning: The qiskit.ignis package is deprecated and has been supersceded by the qiskit-experiments project. Refer to the migration guide: https://github.com/Qiskit/qiskit-ignis#migration-guide on how to migrate to the new project.\n",
            "  \n"
          ]
        }
      ],
      "source": [
        "#####################          TOMOGRAPHY ##############################\n",
        "\n",
        "\n",
        "# Tomography functions\n",
        "import qiskit.quantum_info as qi\n",
        "from qiskit.ignis.verification.tomography import state_tomography_circuits, StateTomographyFitter\n",
        "from qiskit.ignis.verification.tomography import process_tomography_circuits, ProcessTomographyFitter\n",
        "from qiskit.ignis.verification.tomography import gateset_tomography_circuits, GatesetTomographyFitter\n",
        "import qiskit.ignis.mitigation.measurement as mc\n",
        "\n",
        "# Auxiliary methods\n",
        "from qiskit.quantum_info import Choi, Kraus\n",
        "from qiskit.extensions import HGate, XGate"
      ],
      "id": "faccc40a"
    },
    {
      "cell_type": "code",
      "execution_count": null,
      "metadata": {
        "colab": {
          "base_uri": "https://localhost:8080/"
        },
        "id": "26c79375",
        "outputId": "1a444ad9-0d2f-476f-ef13-0395c6939b3b"
      },
      "outputs": [
        {
          "data": {
            "text/plain": [
              "<AccountProvider for IBMQ(hub='ibm-q', group='open', project='main')>"
            ]
          },
          "execution_count": 19,
          "metadata": {},
          "output_type": "execute_result"
        }
      ],
      "source": [
        "IBMQ.save_account('6f4abee5310d26df250bfae2b7bfe6d1c5b0e1020ef11b810847501649ca139d100a39ddc19156bfefe0d99503f1ea76eb8b7d0f34fc2c7e00f4c4356badf810',overwrite=True)\n",
        "IBMQ.load_account() # Load account from disk\n"
      ],
      "id": "26c79375"
    },
    {
      "cell_type": "code",
      "execution_count": null,
      "metadata": {
        "colab": {
          "base_uri": "https://localhost:8080/"
        },
        "id": "3c9ac7ca",
        "outputId": "bae8a92c-1574-4d77-a384-8d975261ed9b"
      },
      "outputs": [
        {
          "name": "stderr",
          "output_type": "stream",
          "text": [
            "/usr/local/lib/python3.7/dist-packages/ipykernel_launcher.py:5: DeprecationWarning: Passing BackendProperties instead of a \"backend\" object has been deprecated as of qiskit-aer 0.10.0 and will be removed no earlier than 3 months from that release date. Duration dependent delay relaxation noise requires a backend object.\n",
            "  \"\"\"\n",
            "WARNING:qiskit_aer.noise.device.models:Device reported a gate error parameter greater than maximum allowed value (1.000000 > 0.800000). Truncating to maximum value.\n",
            "WARNING:qiskit_aer.noise.device.models:Device model returned a depolarizing error parameter greater than maximum allowed value (1.067538 > 1.066667). Truncating to maximum value.\n",
            "WARNING:qiskit_aer.noise.device.models:Device reported a gate error parameter greater than maximum allowed value (1.000000 > 0.800000). Truncating to maximum value.\n",
            "WARNING:qiskit_aer.noise.device.models:Device model returned a depolarizing error parameter greater than maximum allowed value (1.067488 > 1.066667). Truncating to maximum value.\n"
          ]
        }
      ],
      "source": [
        "provider = IBMQ.get_provider(hub='ibm-q-iitmadras', group='internal', project='default')\n",
        "real_device = provider.get_backend('ibmq_kolkata')\n",
        "properties = real_device.properties()\n",
        "coupling_map = real_device.configuration().coupling_map\n",
        "noise_model = NoiseModel.from_backend(properties)"
      ],
      "id": "3c9ac7ca"
    },
    {
      "cell_type": "code",
      "execution_count": null,
      "metadata": {
        "id": "1b68c6f3"
      },
      "outputs": [],
      "source": [
        "backend=Aer.get_backend('qasm_simulator')"
      ],
      "id": "1b68c6f3"
    },
    {
      "cell_type": "code",
      "execution_count": null,
      "metadata": {
        "colab": {
          "base_uri": "https://localhost:8080/"
        },
        "id": "8c7fda04",
        "outputId": "cbfe4daa-3101-4096-9171-3aea050aaab3"
      },
      "outputs": [
        {
          "data": {
            "text/plain": [
              "<qiskit.circuit.instructionset.InstructionSet at 0x7f5aa74854d0>"
            ]
          },
          "execution_count": 35,
          "metadata": {},
          "output_type": "execute_result"
        }
      ],
      "source": [
        "Reco=QuantumCircuit(8,8)\n",
        "\n",
        "###################### INPUT STATE #################################\n",
        "\n",
        "\n",
        "###############################  ENCODING #######################\n",
        "Reco.h(1)\n",
        "Reco.cx([1],[0,2])\n",
        "Reco.cx(2,3)\n",
        "\n",
        "########################################\n",
        "\n",
        "########################  NOISE ########################\n",
        "\n",
        "\n",
        "\n",
        "###########################  RECOVERY #######################\n",
        "\n",
        "\n",
        "Reco.append(Us,[1,0,2,3,4,5,6,7])\n",
        "############################################################################\n",
        "\n",
        "\n",
        "\n",
        "\n",
        "############################# MEASUREMENT #######################\n",
        "\n",
        "Reco.measure([4,5,6,7],[4,5,6,7])\n",
        "#Reco.measure_all()\n",
        "\n",
        "############################# DECODING ##########################\n",
        "Reco.cx(2,3)\n",
        "Reco.cx([1],[2,0])\n",
        "Reco.h(1)\n",
        "#Reco.ry(0,0)\n",
        "#for i in range(0,8):\n",
        " #   Reco.id(1)\n",
        "  #  Reco.barrier()\n",
        "\n",
        "\n"
      ],
      "id": "8c7fda04"
    },
    {
      "cell_type": "code",
      "execution_count": null,
      "metadata": {
        "id": "s2Hh6rpGCL1X"
      },
      "outputs": [],
      "source": [
        "qst_bell = state_tomography_circuits(Reco, [1])"
      ],
      "id": "s2Hh6rpGCL1X"
    },
    {
      "cell_type": "code",
      "execution_count": null,
      "metadata": {
        "colab": {
          "base_uri": "https://localhost:8080/"
        },
        "id": "8qCvjD1bWQ3V",
        "outputId": "9ec7dc6a-ef6e-408a-8d7a-17962eee741d"
      },
      "outputs": [
        {
          "name": "stdout",
          "output_type": "stream",
          "text": [
            "CPU times: user 1min 22s, sys: 3.57 s, total: 1min 26s\n",
            "Wall time: 1min 31s\n"
          ]
        }
      ],
      "source": [
        "%%time\n",
        "\n",
        "job_0 = execute(qst_bell,backend,noise_model=noise_model,coupling_map=coupling_map, shots=8000)\n"
      ],
      "id": "8qCvjD1bWQ3V"
    },
    {
      "cell_type": "code",
      "execution_count": null,
      "metadata": {
        "colab": {
          "base_uri": "https://localhost:8080/"
        },
        "id": "dgNMkFu5CL4B",
        "outputId": "8fb7358e-5028-48bb-e295-bd9d35f2b8e1"
      },
      "outputs": [
        {
          "name": "stdout",
          "output_type": "stream",
          "text": [
            "CPU times: user 1min 18s, sys: 2.83 s, total: 1min 21s\n",
            "Wall time: 1min 19s\n"
          ]
        }
      ],
      "source": [
        "%%time\n",
        "\n",
        "job_8 = execute(qst_bell,backend,noise_model=noise_model,coupling_map=coupling_map, shots=8000)\n"
      ],
      "id": "dgNMkFu5CL4B"
    },
    {
      "cell_type": "code",
      "execution_count": null,
      "metadata": {
        "colab": {
          "base_uri": "https://localhost:8080/"
        },
        "id": "88Ti95JUCL69",
        "outputId": "a294a9a5-1b98-4507-927f-322e09293128"
      },
      "outputs": [
        {
          "name": "stdout",
          "output_type": "stream",
          "text": [
            "CPU times: user 1min 18s, sys: 4.25 s, total: 1min 22s\n",
            "Wall time: 1min 18s\n"
          ]
        }
      ],
      "source": [
        "%%time\n",
        "\n",
        "job_12 = execute(qst_bell,backend,noise_model=noise_model,coupling_map=coupling_map, shots=8000)\n"
      ],
      "id": "88Ti95JUCL69"
    },
    {
      "cell_type": "code",
      "execution_count": null,
      "metadata": {
        "id": "K7leFDMTCL96"
      },
      "outputs": [],
      "source": [
        "tomo_bell_12 = StateTomographyFitter(job_12.result(), qst_bell)"
      ],
      "id": "K7leFDMTCL96"
    },
    {
      "cell_type": "code",
      "execution_count": null,
      "metadata": {
        "colab": {
          "base_uri": "https://localhost:8080/"
        },
        "id": "nz_xFzKxCMBA",
        "outputId": "efe9bd55-569b-4f11-ec76-aeedb8179c87"
      },
      "outputs": [
        {
          "name": "stdout",
          "output_type": "stream",
          "text": [
            "State fidelity (no correction): F = 0.48238\n"
          ]
        }
      ],
      "source": [
        "rho_bell = tomo_bell_12.fit(method='lstsq')\n",
        "F_bell = qi.state_fidelity(rho_bell, [1,0])\n",
        "print('State fidelity (no correction): F = {:.5f}'.format(F_bell))"
      ],
      "id": "nz_xFzKxCMBA"
    },
    {
      "cell_type": "code",
      "execution_count": null,
      "metadata": {
        "id": "6jvLpO01CMDr"
      },
      "outputs": [],
      "source": [
        "tomo_bell_8 = StateTomographyFitter(job_8.result(), qst_bell)"
      ],
      "id": "6jvLpO01CMDr"
    },
    {
      "cell_type": "code",
      "execution_count": null,
      "metadata": {
        "colab": {
          "base_uri": "https://localhost:8080/"
        },
        "id": "FBmGFWbtCMGg",
        "outputId": "1f08495f-3a46-4bef-bf24-c0650052ccb3"
      },
      "outputs": [
        {
          "name": "stdout",
          "output_type": "stream",
          "text": [
            "State fidelity (no correction): F = 0.48100\n"
          ]
        }
      ],
      "source": [
        "rho_bell = tomo_bell_8.fit(method='lstsq')\n",
        "F_bell = qi.state_fidelity(rho_bell, [1,0])\n",
        "print('State fidelity (no correction): F = {:.5f}'.format(F_bell))"
      ],
      "id": "FBmGFWbtCMGg"
    },
    {
      "cell_type": "code",
      "execution_count": null,
      "metadata": {
        "id": "i-4aSIB5CML-"
      },
      "outputs": [],
      "source": [
        "tomo_bell_0 = StateTomographyFitter(job_0.result(), qst_bell)"
      ],
      "id": "i-4aSIB5CML-"
    },
    {
      "cell_type": "code",
      "execution_count": null,
      "metadata": {
        "id": "quw8DmH_CMOo"
      },
      "outputs": [],
      "source": [
        "rho_bell = tomo_bell_0.fit(method='lstsq')\n",
        "F_bell = qi.state_fidelity(rho_bell, [1,0])\n",
        "print('State fidelity (no correction): F = {:.5f}'.format(F_bell))"
      ],
      "id": "quw8DmH_CMOo"
    },
    {
      "cell_type": "code",
      "execution_count": null,
      "metadata": {
        "id": "ENuInHZfWtVv"
      },
      "outputs": [],
      "source": [],
      "id": "ENuInHZfWtVv"
    },
    {
      "cell_type": "code",
      "execution_count": null,
      "metadata": {
        "id": "bol607-KWtYe"
      },
      "outputs": [],
      "source": [],
      "id": "bol607-KWtYe"
    },
    {
      "cell_type": "code",
      "execution_count": null,
      "metadata": {
        "id": "YTATi6EdWta8"
      },
      "outputs": [],
      "source": [],
      "id": "YTATi6EdWta8"
    },
    {
      "cell_type": "code",
      "execution_count": null,
      "metadata": {
        "id": "zBrZ0M3hWteg"
      },
      "outputs": [],
      "source": [],
      "id": "zBrZ0M3hWteg"
    },
    {
      "cell_type": "code",
      "execution_count": null,
      "metadata": {
        "colab": {
          "base_uri": "https://localhost:8080/"
        },
        "id": "iy5xf8tYNTcs",
        "outputId": "121858f2-fdeb-46d6-bd70-5b178755233c"
      },
      "outputs": [
        {
          "name": "stderr",
          "output_type": "stream",
          "text": [
            "/usr/local/lib/python3.7/dist-packages/ipykernel_launcher.py:1: DeprecationWarning: The qiskit.ignis package is deprecated and has been supersceded by the qiskit-experiments project. Refer to the migration guide: https://github.com/Qiskit/qiskit-ignis#migration-guide on how to migrate to the new project.\n",
            "  \"\"\"Entry point for launching an IPython kernel.\n"
          ]
        }
      ],
      "source": [
        "from qiskit.ignis.mitigation.measurement import complete_meas_cal, CompleteMeasFitter"
      ],
      "id": "iy5xf8tYNTcs"
    },
    {
      "cell_type": "code",
      "execution_count": null,
      "metadata": {
        "colab": {
          "base_uri": "https://localhost:8080/"
        },
        "id": "zwnT7uc2NTzF",
        "outputId": "7b9c8667-5251-427b-8d2d-6add65ff2113"
      },
      "outputs": [
        {
          "name": "stdout",
          "output_type": "stream",
          "text": [
            "Looking in indexes: https://pypi.org/simple, https://us-python.pkg.dev/colab-wheels/public/simple/\n",
            "Collecting qiskit.ignis\n",
            "  Downloading qiskit_ignis-0.7.1-py3-none-any.whl (198 kB)\n",
            "\u001b[K     |████████████████████████████████| 198 kB 4.0 MB/s \n",
            "\u001b[?25hRequirement already satisfied: retworkx>=0.8.0 in /usr/local/lib/python3.7/dist-packages (from qiskit.ignis) (0.12.1)\n",
            "Requirement already satisfied: setuptools>=40.1.0 in /usr/local/lib/python3.7/dist-packages (from qiskit.ignis) (57.4.0)\n",
            "Requirement already satisfied: scipy!=0.19.1,>=0.19 in /usr/local/lib/python3.7/dist-packages (from qiskit.ignis) (1.7.3)\n",
            "Requirement already satisfied: numpy>=1.13 in /usr/local/lib/python3.7/dist-packages (from qiskit.ignis) (1.21.6)\n",
            "Requirement already satisfied: qiskit-terra>=0.15.1 in /usr/local/lib/python3.7/dist-packages (from qiskit.ignis) (0.22.3)\n",
            "Requirement already satisfied: tweedledum<2.0,>=1.1 in /usr/local/lib/python3.7/dist-packages (from qiskit-terra>=0.15.1->qiskit.ignis) (1.1.1)\n",
            "Requirement already satisfied: ply>=3.10 in /usr/local/lib/python3.7/dist-packages (from qiskit-terra>=0.15.1->qiskit.ignis) (3.11)\n",
            "Requirement already satisfied: python-dateutil>=2.8.0 in /usr/local/lib/python3.7/dist-packages (from qiskit-terra>=0.15.1->qiskit.ignis) (2.8.2)\n",
            "Requirement already satisfied: importlib-metadata<5.0 in /usr/local/lib/python3.7/dist-packages (from qiskit-terra>=0.15.1->qiskit.ignis) (4.13.0)\n",
            "Requirement already satisfied: stevedore>=3.0.0 in /usr/local/lib/python3.7/dist-packages (from qiskit-terra>=0.15.1->qiskit.ignis) (3.5.2)\n",
            "Requirement already satisfied: psutil>=5 in /usr/local/lib/python3.7/dist-packages (from qiskit-terra>=0.15.1->qiskit.ignis) (5.4.8)\n",
            "Requirement already satisfied: symengine>=0.9 in /usr/local/lib/python3.7/dist-packages (from qiskit-terra>=0.15.1->qiskit.ignis) (0.9.2)\n",
            "Requirement already satisfied: sympy>=1.3 in /usr/local/lib/python3.7/dist-packages (from qiskit-terra>=0.15.1->qiskit.ignis) (1.7.1)\n",
            "Requirement already satisfied: shared-memory38 in /usr/local/lib/python3.7/dist-packages (from qiskit-terra>=0.15.1->qiskit.ignis) (0.1.2)\n",
            "Requirement already satisfied: typing-extensions in /usr/local/lib/python3.7/dist-packages (from qiskit-terra>=0.15.1->qiskit.ignis) (4.1.1)\n",
            "Requirement already satisfied: dill>=0.3 in /usr/local/lib/python3.7/dist-packages (from qiskit-terra>=0.15.1->qiskit.ignis) (0.3.6)\n",
            "Requirement already satisfied: zipp>=0.5 in /usr/local/lib/python3.7/dist-packages (from importlib-metadata<5.0->qiskit-terra>=0.15.1->qiskit.ignis) (3.10.0)\n",
            "Requirement already satisfied: six>=1.5 in /usr/local/lib/python3.7/dist-packages (from python-dateutil>=2.8.0->qiskit-terra>=0.15.1->qiskit.ignis) (1.15.0)\n",
            "Requirement already satisfied: rustworkx==0.12.1 in /usr/local/lib/python3.7/dist-packages (from retworkx>=0.8.0->qiskit.ignis) (0.12.1)\n",
            "Requirement already satisfied: pbr!=2.1.0,>=2.0.0 in /usr/local/lib/python3.7/dist-packages (from stevedore>=3.0.0->qiskit-terra>=0.15.1->qiskit.ignis) (5.11.0)\n",
            "Requirement already satisfied: mpmath>=0.19 in /usr/local/lib/python3.7/dist-packages (from sympy>=1.3->qiskit-terra>=0.15.1->qiskit.ignis) (1.2.1)\n",
            "Installing collected packages: qiskit.ignis\n",
            "Successfully installed qiskit.ignis-0.7.1\n"
          ]
        }
      ],
      "source": [
        "!pip install qiskit.ignis"
      ],
      "id": "zwnT7uc2NTzF"
    },
    {
      "cell_type": "code",
      "execution_count": null,
      "metadata": {
        "id": "5F6s-rtfNUCY"
      },
      "outputs": [],
      "source": [
        "from qiskit.ignis.mitigation.measurement import complete_meas_cal, CompleteMeasFitter"
      ],
      "id": "5F6s-rtfNUCY"
    },
    {
      "cell_type": "code",
      "execution_count": null,
      "metadata": {
        "id": "FnF_76MmNUT2"
      },
      "outputs": [],
      "source": [
        "qr = QuantumRegister(8)\n",
        "meas_calibs, state_labels = complete_meas_cal(qr=qr, circlabel='mcal')"
      ],
      "id": "FnF_76MmNUT2"
    },
    {
      "cell_type": "code",
      "execution_count": null,
      "metadata": {
        "id": "8rarNo35ap5b"
      },
      "outputs": [],
      "source": [
        "aer_sim = Aer.get_backend('aer_simulator')\n",
        "# Execute the calibration circuits without noise\n",
        "#t_qc = transpile(meas_calibs, aer_sim)\n",
        "#qobj = assemble(t_qc, shots=10000)\n",
        "cal_results = aer_sim.run(meas_calibs, shots=8000).result()"
      ],
      "id": "8rarNo35ap5b"
    },
    {
      "cell_type": "code",
      "execution_count": null,
      "metadata": {
        "colab": {
          "base_uri": "https://localhost:8080/",
          "height": 191
        },
        "id": "yi62rqzHap8n",
        "outputId": "c851c8b0-49b9-4502-9e63-3116ef2c637e"
      },
      "outputs": [
        {
          "data": {
            "text/latex": "$$\n\n\\begin{bmatrix}\n1 & 0 & 0 & 0 & \\cdots & 0 & 0 & 0  \\\\\n 0 & 1 & 0 & 0 & \\cdots & 0 & 0 & 0  \\\\\n 0 & 0 & 1 & 0 & \\cdots & 0 & 0 & 0  \\\\\n 0 & 0 & 0 & 1 & \\cdots & 0 & 0 & 0  \\\\\n \\vdots & \\vdots & \\vdots & \\vdots & \\ddots & \\vdots & \\vdots & \\vdots \\\\\n 0 & 0 & 0 & 0 & \\cdots & 1 & 0 & 0  \\\\\n 0 & 0 & 0 & 0 & \\cdots & 0 & 1 & 0  \\\\\n 0 & 0 & 0 & 0 & \\cdots & 0 & 0 & 1  \\\\\n \\end{bmatrix}\n$$",
            "text/plain": [
              "<IPython.core.display.Latex object>"
            ]
          },
          "execution_count": 62,
          "metadata": {},
          "output_type": "execute_result"
        }
      ],
      "source": [
        "meas_fitter = CompleteMeasFitter(cal_results, state_labels, circlabel='mcal')\n",
        "array_to_latex(meas_fitter.cal_matrix)"
      ],
      "id": "yi62rqzHap8n"
    },
    {
      "cell_type": "code",
      "execution_count": null,
      "metadata": {
        "colab": {
          "base_uri": "https://localhost:8080/",
          "height": 191
        },
        "id": "GOqQez8iap_4",
        "outputId": "44f1e96b-6215-4e0b-d9f8-6301117a6dc3"
      },
      "outputs": [
        {
          "data": {
            "text/latex": "$$\n\n\\begin{bmatrix}\n0.83475 & 0.01487 & 0.06087 & 0.001 & \\cdots & 0 & 0 & 0  \\\\\n 0.00675 & 0.82537 & 0.00063 & 0.05287 & \\cdots & 0 & 0 & 0  \\\\\n 0.04263 & 0.0005 & 0.82175 & 0.01263 & \\cdots & 0 & 0 & 0  \\\\\n 0.00038 & 0.04 & 0.00575 & 0.81788 & \\cdots & 0 & 0 & 0  \\\\\n \\vdots & \\vdots & \\vdots & \\vdots & \\ddots & \\vdots & \\vdots & \\vdots \\\\\n 0 & 0 & 0 & 0 & \\cdots & 0.7875 & 0.00025 & 0.05738  \\\\\n 0 & 0 & 0 & 0 & \\cdots & 0.0005 & 0.77187 & 0.01075  \\\\\n 0 & 0 & 0 & 0 & \\cdots & 0.04013 & 0.00537 & 0.7615  \\\\\n \\end{bmatrix}\n$$",
            "text/plain": [
              "<IPython.core.display.Latex object>"
            ]
          },
          "execution_count": 63,
          "metadata": {},
          "output_type": "execute_result"
        }
      ],
      "source": [
        "#t_qc = transpile(meas_calibs, aer_sim)\n",
        "#qobj = assemble(t_qc, shots=10000)\n",
        "cal_results = execute(meas_calibs, fake, shots=8000).result()\n",
        "\n",
        "meas_fitter = CompleteMeasFitter(cal_results, state_labels, circlabel='mcal')\n",
        "array_to_latex(meas_fitter.cal_matrix)"
      ],
      "id": "GOqQez8iap_4"
    },
    {
      "cell_type": "code",
      "execution_count": null,
      "metadata": {
        "id": "Xb9deUGVaqUq"
      },
      "outputs": [],
      "source": [
        "results = execute(Reco,fake ,shots=8000).result()"
      ],
      "id": "Xb9deUGVaqUq"
    },
    {
      "cell_type": "code",
      "execution_count": null,
      "metadata": {
        "id": "40qLWg2aaqXj"
      },
      "outputs": [],
      "source": [
        "# Get the filter object\n",
        "meas_filter = meas_fitter.filter"
      ],
      "id": "40qLWg2aaqXj"
    },
    {
      "cell_type": "code",
      "execution_count": null,
      "metadata": {
        "id": "fYQ2kqY_aqah"
      },
      "outputs": [],
      "source": [
        "mitigated_results = meas_filter.apply(results)\n",
        "mitigated_counts = mitigated_results.get_counts()"
      ],
      "id": "fYQ2kqY_aqah"
    },
    {
      "cell_type": "code",
      "execution_count": null,
      "metadata": {
        "colab": {
          "base_uri": "https://localhost:8080/",
          "height": 397
        },
        "id": "pYQQgzjqaqdX",
        "outputId": "3054c50d-be85-4041-97b0-cc93e11e8720"
      },
      "outputs": [
        {
          "ename": "ImportError",
          "evalue": "ignored",
          "output_type": "error",
          "traceback": [
            "\u001b[0;31m---------------------------------------------------------------------------\u001b[0m",
            "\u001b[0;31mImportError\u001b[0m                               Traceback (most recent call last)",
            "\u001b[0;32m/usr/local/lib/python3.7/dist-packages/IPython/core/formatters.py\u001b[0m in \u001b[0;36m__call__\u001b[0;34m(self, obj)\u001b[0m\n\u001b[1;32m    339\u001b[0m                 \u001b[0;32mpass\u001b[0m\u001b[0;34m\u001b[0m\u001b[0;34m\u001b[0m\u001b[0m\n\u001b[1;32m    340\u001b[0m             \u001b[0;32melse\u001b[0m\u001b[0;34m:\u001b[0m\u001b[0;34m\u001b[0m\u001b[0;34m\u001b[0m\u001b[0m\n\u001b[0;32m--> 341\u001b[0;31m                 \u001b[0;32mreturn\u001b[0m \u001b[0mprinter\u001b[0m\u001b[0;34m(\u001b[0m\u001b[0mobj\u001b[0m\u001b[0;34m)\u001b[0m\u001b[0;34m\u001b[0m\u001b[0;34m\u001b[0m\u001b[0m\n\u001b[0m\u001b[1;32m    342\u001b[0m             \u001b[0;31m# Finally look for special method names\u001b[0m\u001b[0;34m\u001b[0m\u001b[0;34m\u001b[0m\u001b[0;34m\u001b[0m\u001b[0m\n\u001b[1;32m    343\u001b[0m             \u001b[0mmethod\u001b[0m \u001b[0;34m=\u001b[0m \u001b[0mget_real_method\u001b[0m\u001b[0;34m(\u001b[0m\u001b[0mobj\u001b[0m\u001b[0;34m,\u001b[0m \u001b[0mself\u001b[0m\u001b[0;34m.\u001b[0m\u001b[0mprint_method\u001b[0m\u001b[0;34m)\u001b[0m\u001b[0;34m\u001b[0m\u001b[0;34m\u001b[0m\u001b[0m\n",
            "\u001b[0;32m/usr/local/lib/python3.7/dist-packages/IPython/core/pylabtools.py\u001b[0m in \u001b[0;36m<lambda>\u001b[0;34m(fig)\u001b[0m\n\u001b[1;32m    242\u001b[0m \u001b[0;34m\u001b[0m\u001b[0m\n\u001b[1;32m    243\u001b[0m     \u001b[0;32mif\u001b[0m \u001b[0;34m'png'\u001b[0m \u001b[0;32min\u001b[0m \u001b[0mformats\u001b[0m\u001b[0;34m:\u001b[0m\u001b[0;34m\u001b[0m\u001b[0;34m\u001b[0m\u001b[0m\n\u001b[0;32m--> 244\u001b[0;31m         \u001b[0mpng_formatter\u001b[0m\u001b[0;34m.\u001b[0m\u001b[0mfor_type\u001b[0m\u001b[0;34m(\u001b[0m\u001b[0mFigure\u001b[0m\u001b[0;34m,\u001b[0m \u001b[0;32mlambda\u001b[0m \u001b[0mfig\u001b[0m\u001b[0;34m:\u001b[0m \u001b[0mprint_figure\u001b[0m\u001b[0;34m(\u001b[0m\u001b[0mfig\u001b[0m\u001b[0;34m,\u001b[0m \u001b[0;34m'png'\u001b[0m\u001b[0;34m,\u001b[0m \u001b[0;34m**\u001b[0m\u001b[0mkwargs\u001b[0m\u001b[0;34m)\u001b[0m\u001b[0;34m)\u001b[0m\u001b[0;34m\u001b[0m\u001b[0;34m\u001b[0m\u001b[0m\n\u001b[0m\u001b[1;32m    245\u001b[0m     \u001b[0;32mif\u001b[0m \u001b[0;34m'retina'\u001b[0m \u001b[0;32min\u001b[0m \u001b[0mformats\u001b[0m \u001b[0;32mor\u001b[0m \u001b[0;34m'png2x'\u001b[0m \u001b[0;32min\u001b[0m \u001b[0mformats\u001b[0m\u001b[0;34m:\u001b[0m\u001b[0;34m\u001b[0m\u001b[0;34m\u001b[0m\u001b[0m\n\u001b[1;32m    246\u001b[0m         \u001b[0mpng_formatter\u001b[0m\u001b[0;34m.\u001b[0m\u001b[0mfor_type\u001b[0m\u001b[0;34m(\u001b[0m\u001b[0mFigure\u001b[0m\u001b[0;34m,\u001b[0m \u001b[0;32mlambda\u001b[0m \u001b[0mfig\u001b[0m\u001b[0;34m:\u001b[0m \u001b[0mretina_figure\u001b[0m\u001b[0;34m(\u001b[0m\u001b[0mfig\u001b[0m\u001b[0;34m,\u001b[0m \u001b[0;34m**\u001b[0m\u001b[0mkwargs\u001b[0m\u001b[0;34m)\u001b[0m\u001b[0;34m)\u001b[0m\u001b[0;34m\u001b[0m\u001b[0;34m\u001b[0m\u001b[0m\n",
            "\u001b[0;32m/usr/local/lib/python3.7/dist-packages/IPython/core/pylabtools.py\u001b[0m in \u001b[0;36mprint_figure\u001b[0;34m(fig, fmt, bbox_inches, **kwargs)\u001b[0m\n\u001b[1;32m    126\u001b[0m \u001b[0;34m\u001b[0m\u001b[0m\n\u001b[1;32m    127\u001b[0m     \u001b[0mbytes_io\u001b[0m \u001b[0;34m=\u001b[0m \u001b[0mBytesIO\u001b[0m\u001b[0;34m(\u001b[0m\u001b[0;34m)\u001b[0m\u001b[0;34m\u001b[0m\u001b[0;34m\u001b[0m\u001b[0m\n\u001b[0;32m--> 128\u001b[0;31m     \u001b[0mfig\u001b[0m\u001b[0;34m.\u001b[0m\u001b[0mcanvas\u001b[0m\u001b[0;34m.\u001b[0m\u001b[0mprint_figure\u001b[0m\u001b[0;34m(\u001b[0m\u001b[0mbytes_io\u001b[0m\u001b[0;34m,\u001b[0m \u001b[0;34m**\u001b[0m\u001b[0mkw\u001b[0m\u001b[0;34m)\u001b[0m\u001b[0;34m\u001b[0m\u001b[0;34m\u001b[0m\u001b[0m\n\u001b[0m\u001b[1;32m    129\u001b[0m     \u001b[0mdata\u001b[0m \u001b[0;34m=\u001b[0m \u001b[0mbytes_io\u001b[0m\u001b[0;34m.\u001b[0m\u001b[0mgetvalue\u001b[0m\u001b[0;34m(\u001b[0m\u001b[0;34m)\u001b[0m\u001b[0;34m\u001b[0m\u001b[0;34m\u001b[0m\u001b[0m\n\u001b[1;32m    130\u001b[0m     \u001b[0;32mif\u001b[0m \u001b[0mfmt\u001b[0m \u001b[0;34m==\u001b[0m \u001b[0;34m'svg'\u001b[0m\u001b[0;34m:\u001b[0m\u001b[0;34m\u001b[0m\u001b[0;34m\u001b[0m\u001b[0m\n",
            "\u001b[0;32m/usr/local/lib/python3.7/dist-packages/matplotlib/backend_bases.py\u001b[0m in \u001b[0;36mprint_figure\u001b[0;34m(self, filename, dpi, facecolor, edgecolor, orientation, format, bbox_inches, **kwargs)\u001b[0m\n\u001b[1;32m   2092\u001b[0m         \u001b[0mratio\u001b[0m \u001b[0;34m:\u001b[0m \u001b[0mfloat\u001b[0m\u001b[0;34m\u001b[0m\u001b[0;34m\u001b[0m\u001b[0m\n\u001b[1;32m   2093\u001b[0m             \u001b[0mThe\u001b[0m \u001b[0mratio\u001b[0m \u001b[0mof\u001b[0m \u001b[0mlogical\u001b[0m \u001b[0mto\u001b[0m \u001b[0mphysical\u001b[0m \u001b[0mpixels\u001b[0m \u001b[0mused\u001b[0m \u001b[0;32mfor\u001b[0m \u001b[0mthe\u001b[0m \u001b[0mcanvas\u001b[0m\u001b[0;34m.\u001b[0m\u001b[0;34m\u001b[0m\u001b[0;34m\u001b[0m\u001b[0m\n\u001b[0;32m-> 2094\u001b[0;31m \u001b[0;34m\u001b[0m\u001b[0m\n\u001b[0m\u001b[1;32m   2095\u001b[0m         \u001b[0mReturns\u001b[0m\u001b[0;34m\u001b[0m\u001b[0;34m\u001b[0m\u001b[0m\n\u001b[1;32m   2096\u001b[0m         \u001b[0;34m-\u001b[0m\u001b[0;34m-\u001b[0m\u001b[0;34m-\u001b[0m\u001b[0;34m-\u001b[0m\u001b[0;34m-\u001b[0m\u001b[0;34m-\u001b[0m\u001b[0;34m-\u001b[0m\u001b[0;34m\u001b[0m\u001b[0;34m\u001b[0m\u001b[0m\n",
            "\u001b[0;32m/usr/local/lib/python3.7/dist-packages/matplotlib/backend_bases.py\u001b[0m in \u001b[0;36m_get_renderer\u001b[0;34m(figure, print_method)\u001b[0m\n\u001b[1;32m   1558\u001b[0m     \u001b[0mfigure\u001b[0m\u001b[0;34m.\u001b[0m\u001b[0mdraw_without_rendering\u001b[0m\u001b[0;34m(\u001b[0m\u001b[0;34m)\u001b[0m\u001b[0;34m\u001b[0m\u001b[0;34m\u001b[0m\u001b[0m\n\u001b[1;32m   1559\u001b[0m \u001b[0;34m\u001b[0m\u001b[0m\n\u001b[0;32m-> 1560\u001b[0;31m \u001b[0;34m\u001b[0m\u001b[0m\n\u001b[0m\u001b[1;32m   1561\u001b[0m \u001b[0;32mdef\u001b[0m \u001b[0m_is_non_interactive_terminal_ipython\u001b[0m\u001b[0;34m(\u001b[0m\u001b[0mip\u001b[0m\u001b[0;34m)\u001b[0m\u001b[0;34m:\u001b[0m\u001b[0;34m\u001b[0m\u001b[0;34m\u001b[0m\u001b[0m\n\u001b[1;32m   1562\u001b[0m     \"\"\"\n",
            "\u001b[0;32m/usr/local/lib/python3.7/dist-packages/matplotlib/backends/backend_agg.py\u001b[0m in \u001b[0;36mprint_png\u001b[0;34m(self, filename_or_obj, metadata, pil_kwargs, *args, **kwargs)\u001b[0m\n\u001b[1;32m    503\u001b[0m             \u001b[0mMetadata\u001b[0m \u001b[0;32min\u001b[0m \u001b[0mthe\u001b[0m \u001b[0mPNG\u001b[0m \u001b[0mfile\u001b[0m \u001b[0;32mas\u001b[0m \u001b[0mkey\u001b[0m\u001b[0;34m-\u001b[0m\u001b[0mvalue\u001b[0m \u001b[0mpairs\u001b[0m \u001b[0mof\u001b[0m \u001b[0mbytes\u001b[0m \u001b[0;32mor\u001b[0m \u001b[0mlatin\u001b[0m\u001b[0;34m-\u001b[0m\u001b[0;36m1\u001b[0m\u001b[0;34m\u001b[0m\u001b[0;34m\u001b[0m\u001b[0m\n\u001b[1;32m    504\u001b[0m             \u001b[0mencodable\u001b[0m \u001b[0mstrings\u001b[0m\u001b[0;34m.\u001b[0m\u001b[0;34m\u001b[0m\u001b[0;34m\u001b[0m\u001b[0m\n\u001b[0;32m--> 505\u001b[0;31m             \u001b[0mAccording\u001b[0m \u001b[0mto\u001b[0m \u001b[0mthe\u001b[0m \u001b[0mPNG\u001b[0m \u001b[0mspecification\u001b[0m\u001b[0;34m,\u001b[0m \u001b[0mkeys\u001b[0m \u001b[0mmust\u001b[0m \u001b[0mbe\u001b[0m \u001b[0mshorter\u001b[0m \u001b[0mthan\u001b[0m \u001b[0;36m79\u001b[0m\u001b[0;34m\u001b[0m\u001b[0;34m\u001b[0m\u001b[0m\n\u001b[0m\u001b[1;32m    506\u001b[0m             \u001b[0mchars\u001b[0m\u001b[0;34m.\u001b[0m\u001b[0;34m\u001b[0m\u001b[0;34m\u001b[0m\u001b[0m\n\u001b[1;32m    507\u001b[0m \u001b[0;34m\u001b[0m\u001b[0m\n",
            "\u001b[0;31mImportError\u001b[0m: cannot import name '_png' from 'matplotlib' (/usr/local/lib/python3.7/dist-packages/matplotlib/__init__.py)"
          ]
        },
        {
          "data": {
            "text/plain": [
              "<Figure size 504x360 with 1 Axes>"
            ]
          },
          "execution_count": 37,
          "metadata": {},
          "output_type": "execute_result"
        }
      ],
      "source": [
        "from qiskit.visualization import plot_histogram\n",
        "noisy_counts = results.get_counts()\n",
        "plot_histogram([noisy_counts, mitigated_counts], legend=['noisy', 'mitigated'])"
      ],
      "id": "pYQQgzjqaqdX"
    },
    {
      "cell_type": "code",
      "execution_count": null,
      "metadata": {
        "colab": {
          "base_uri": "https://localhost:8080/"
        },
        "id": "tDmwc3nxaqgI",
        "outputId": "0b243793-4b53-4e3e-cdc3-0261af66d798"
      },
      "outputs": [
        {
          "data": {
            "text/plain": [
              "{'00000000': 61.171218678482546,\n",
              " '00000001': 78.82244553382615,\n",
              " '00000010': 52.89849145205539,\n",
              " '00000011': 38.45748554047972,\n",
              " '00000100': 117.25104357924623,\n",
              " '00000101': 55.90359795329782,\n",
              " '00000110': 108.37034205554288,\n",
              " '00000111': 87.2443371091596,\n",
              " '00001000': 75.93344884281592,\n",
              " '00001001': 86.362862652313,\n",
              " '00001010': 114.67976333829152,\n",
              " '00001011': 127.21509594847817,\n",
              " '00001100': 167.28842672521904,\n",
              " '00001101': 145.55136391592507,\n",
              " '00001110': 206.73122530362286,\n",
              " '00001111': 166.77270795362057,\n",
              " '00010000': 13.096078498319713,\n",
              " '00010001': 21.049545901362638,\n",
              " '00010010': 12.903893011625758,\n",
              " '00010011': 14.336888192790601,\n",
              " '00010100': 38.49563295618683,\n",
              " '00010101': 21.765263681305093,\n",
              " '00010110': 48.102549608169106,\n",
              " '00010111': 24.21256409246911,\n",
              " '00011000': 22.0547716235027,\n",
              " '00011001': 33.32158356048163,\n",
              " '00011010': 31.547672523745067,\n",
              " '00011011': 49.0471987612727,\n",
              " '00011100': 47.459652060118486,\n",
              " '00011101': 56.26680834282152,\n",
              " '00011110': 75.78134364111834,\n",
              " '00011111': 40.42370269684497,\n",
              " '00100000': 37.52842925201194,\n",
              " '00100001': 77.59027943651053,\n",
              " '00100010': 71.14042030593794,\n",
              " '00100011': 45.399343926743924,\n",
              " '00100100': 119.02585332539252,\n",
              " '00100101': 73.77390333091144,\n",
              " '00100110': 95.26150328340027,\n",
              " '00100111': 84.81984567977291,\n",
              " '00101000': 74.34886587357946,\n",
              " '00101001': 92.99549951753662,\n",
              " '00101010': 94.15978183251244,\n",
              " '00101011': 131.93908098399402,\n",
              " '00101100': 155.19444099907608,\n",
              " '00101101': 125.86818494481024,\n",
              " '00101110': 208.36172043972454,\n",
              " '00101111': 153.23133852682798,\n",
              " '00110000': 24.203460331400585,\n",
              " '00110001': 24.679191735428848,\n",
              " '00110010': 17.123517212034653,\n",
              " '00110011': 18.261038036201636,\n",
              " '00110100': 32.69271547944441,\n",
              " '00110101': 22.857397766800066,\n",
              " '00110110': 46.49218949545699,\n",
              " '00110111': 23.963501107882806,\n",
              " '00111000': 17.33953664258325,\n",
              " '00111001': 32.26377684362487,\n",
              " '00111010': 37.744619703904675,\n",
              " '00111011': 37.27784633229746,\n",
              " '00111100': 59.25860930412347,\n",
              " '00111101': 30.663613171402787,\n",
              " '00111110': 69.02090676127665,\n",
              " '00111111': 44.02169498234971,\n",
              " '01000000': 15.045075981565182,\n",
              " '01000001': 12.759726940244978,\n",
              " '01000010': 13.398697204612139,\n",
              " '01000011': 18.721965828302295,\n",
              " '01000100': 38.15093261693675,\n",
              " '01000101': 20.397358220811554,\n",
              " '01000110': 29.127813843368966,\n",
              " '01000111': 19.375110931207956,\n",
              " '01001000': 24.33452279556797,\n",
              " '01001001': 25.451940503897536,\n",
              " '01001010': 25.085632838097585,\n",
              " '01001011': 27.35148048547606,\n",
              " '01001100': 39.39646833552665,\n",
              " '01001101': 46.127381035883836,\n",
              " '01001110': 84.33224259466888,\n",
              " '01001111': 40.42903423416634,\n",
              " '01010000': 3.9939442240131076,\n",
              " '01010001': 7.673853960696493,\n",
              " '01010010': 11.092657148321946,\n",
              " '01010011': 5.975330909707528,\n",
              " '01010100': 20.875304667860828,\n",
              " '01010101': 15.88616122256599,\n",
              " '01010110': 15.172709923341078,\n",
              " '01010111': 11.9180073106886,\n",
              " '01011000': 3.926843788470568,\n",
              " '01011001': 12.221555937763153,\n",
              " '01011010': 13.065664766739093,\n",
              " '01011011': 17.289487406404756,\n",
              " '01011100': 29.436724619585547,\n",
              " '01011101': 8.900402534902737,\n",
              " '01011110': 16.371016603394725,\n",
              " '01011111': 14.755632376220486,\n",
              " '01100000': 17.623440804620053,\n",
              " '01100001': 22.986389553870158,\n",
              " '01100010': 13.604691492631957,\n",
              " '01100011': 12.676406022645947,\n",
              " '01100100': 37.86224360346593,\n",
              " '01100101': 12.264674003988867,\n",
              " '01100110': 39.553264305280486,\n",
              " '01100111': 15.631831302188711,\n",
              " '01101000': 24.90696265458055,\n",
              " '01101001': 28.005038155057573,\n",
              " '01101010': 14.041419515847217,\n",
              " '01101011': 34.39735157675879,\n",
              " '01101100': 46.19757673849763,\n",
              " '01101101': 44.788097650915006,\n",
              " '01101110': 57.08760202181546,\n",
              " '01101111': 31.280789451204296,\n",
              " '01110000': 11.447093793612632,\n",
              " '01110001': 9.863243004109275,\n",
              " '01110010': 6.402143066731704,\n",
              " '01110011': 8.580167912497517,\n",
              " '01110100': 10.110148514913318,\n",
              " '01110101': 7.2321955453634015,\n",
              " '01110110': 7.925180034352636,\n",
              " '01110111': 12.67694664871412,\n",
              " '01111000': 6.203446565173936,\n",
              " '01111001': 13.453611875209488,\n",
              " '01111010': 14.431537757611855,\n",
              " '01111011': 19.786939761302907,\n",
              " '01111100': 21.67406860944869,\n",
              " '01111101': 19.856810839850397,\n",
              " '01111110': 37.76032116075897,\n",
              " '01111111': 9.308282546941104,\n",
              " '10000000': 10.725298803618543,\n",
              " '10000001': 14.239887717893419,\n",
              " '10000010': 20.933753237159937,\n",
              " '10000011': 20.80844001385617,\n",
              " '10000100': 38.47233462701058,\n",
              " '10000101': 21.22418042246121,\n",
              " '10000110': 36.65666459438685,\n",
              " '10000111': 20.622219959359224,\n",
              " '10001000': 24.56248630306715,\n",
              " '10001001': 29.662907116608668,\n",
              " '10001010': 29.171676563518037,\n",
              " '10001011': 39.21244296927525,\n",
              " '10001100': 46.6466224256719,\n",
              " '10001101': 44.70697035536093,\n",
              " '10001110': 89.47280619754734,\n",
              " '10001111': 43.679704843706126,\n",
              " '10010000': 11.994053234817072,\n",
              " '10010001': 9.62679787871668,\n",
              " '10010010': 8.134889024569702,\n",
              " '10010011': 2.6852981993475025,\n",
              " '10010100': 8.147203652798078,\n",
              " '10010101': 7.2338996800446544,\n",
              " '10010110': 10.71428766673147,\n",
              " '10010111': 10.63922143123653,\n",
              " '10011000': 14.933601373766269,\n",
              " '10011001': 17.813222832425307,\n",
              " '10011010': 18.958461328772483,\n",
              " '10011011': 13.815857934567635,\n",
              " '10011100': 24.328135545262565,\n",
              " '10011101': 15.91339050975324,\n",
              " '10011110': 22.401871913942948,\n",
              " '10011111': 25.98647242021474,\n",
              " '10100000': 16.908801530080336,\n",
              " '10100001': 24.25825052998003,\n",
              " '10100010': 35.1006566053273,\n",
              " '10100011': 17.291910006304565,\n",
              " '10100100': 27.852901301944552,\n",
              " '10100101': 12.743956382433078,\n",
              " '10100110': 54.21780604063361,\n",
              " '10100111': 28.183956256288564,\n",
              " '10101000': 31.349995189045778,\n",
              " '10101001': 30.82941570537116,\n",
              " '10101010': 19.88224530774013,\n",
              " '10101011': 28.017181034040007,\n",
              " '10101100': 44.53863181732859,\n",
              " '10101101': 43.11552239616507,\n",
              " '10101110': 89.92654256916028,\n",
              " '10101111': 48.15196793662116,\n",
              " '10110000': 1.2702840114870126,\n",
              " '10110001': 7.6917109661556955,\n",
              " '10110010': 13.033523774099633,\n",
              " '10110011': 9.45509843366932,\n",
              " '10110100': 17.680363871899754,\n",
              " '10110101': 6.108448577144925,\n",
              " '10110110': 20.442001342337132,\n",
              " '10110111': 7.15795048344247,\n",
              " '10111000': 9.947462548533764,\n",
              " '10111001': 9.385456550262552,\n",
              " '10111010': 16.36072506550212,\n",
              " '10111011': 25.522895030120466,\n",
              " '10111100': 15.482629683190817,\n",
              " '10111101': 19.47808412748724,\n",
              " '10111110': 21.76750696159278,\n",
              " '10111111': 17.748604466184915,\n",
              " '11000000': 10.214105148815491,\n",
              " '11000001': 15.48704040101454,\n",
              " '11000010': 9.815022741331969,\n",
              " '11000011': 5.48937347696134,\n",
              " '11000100': 11.585910267567975,\n",
              " '11000101': 10.367916484749909,\n",
              " '11000110': 9.047281999403129,\n",
              " '11000111': 12.035392410485855,\n",
              " '11001000': 14.092475906224827,\n",
              " '11001001': 18.556596228004807,\n",
              " '11001010': 8.575909416063244,\n",
              " '11001011': 21.51408665635877,\n",
              " '11001100': 24.862758528694204,\n",
              " '11001101': 15.813721165612447,\n",
              " '11001110': 34.69972530441169,\n",
              " '11001111': 15.498941930657224,\n",
              " '11010000': 6.919952979186285,\n",
              " '11010001': 0.11438908608995664,\n",
              " '11010010': 6.7342606401562275,\n",
              " '11010011': 6.193723439422702,\n",
              " '11010100': 16.284162009636074,\n",
              " '11010101': 3.2659072433603304,\n",
              " '11010110': 7.491043297817778,\n",
              " '11010111': 10.671868430986505,\n",
              " '11011000': 5.918755876338939,\n",
              " '11011001': 4.904049961189907,\n",
              " '11011010': 13.182587367280123,\n",
              " '11011011': 7.030323685972555,\n",
              " '11011100': 8.451081224694802,\n",
              " '11011101': 8.613750652062915,\n",
              " '11011110': 12.942747813049213,\n",
              " '11011111': 10.614618893817655,\n",
              " '11100000': 12.568776630054312,\n",
              " '11100001': 2.4159164758817337,\n",
              " '11100010': 8.299955519326353,\n",
              " '11100011': 7.762064740825379,\n",
              " '11100100': 9.49226045256779,\n",
              " '11100101': 13.676650750194375,\n",
              " '11100110': 18.97464888926804,\n",
              " '11100111': 4.3660325047949,\n",
              " '11101000': 1.1172630455682182,\n",
              " '11101001': 13.505062441306556,\n",
              " '11101010': 12.445751229209478,\n",
              " '11101011': 13.077213224093947,\n",
              " '11101100': 19.25248999322931,\n",
              " '11101101': 12.624161158022874,\n",
              " '11101110': 28.475698148389377,\n",
              " '11101111': 21.815383298716057,\n",
              " '11110000': 6.05814646510144,\n",
              " '11110001': 5.133144095875875,\n",
              " '11110010': 5.982823240597795,\n",
              " '11110011': 2.458414449857097,\n",
              " '11110100': 6.971520755836465,\n",
              " '11110101': 3.6811080441548008,\n",
              " '11110110': 19.105848642362776,\n",
              " '11110111': 10.571578845609707,\n",
              " '11111000': 3.6714275470939755,\n",
              " '11111001': 6.1659059562362,\n",
              " '11111010': 4.72327865316423,\n",
              " '11111011': 8.473752644199354,\n",
              " '11111100': 24.320897467784995,\n",
              " '11111101': 5.723295115275881,\n",
              " '11111110': 6.073527218624044,\n",
              " '11111111': 12.317263829873424}"
            ]
          },
          "execution_count": 38,
          "metadata": {},
          "output_type": "execute_result"
        }
      ],
      "source": [
        " mitigated_counts"
      ],
      "id": "tDmwc3nxaqgI"
    },
    {
      "cell_type": "code",
      "execution_count": null,
      "metadata": {
        "id": "U6rM0p9naqjm"
      },
      "outputs": [],
      "source": [
        "qst_bell = state_tomography_circuits(Reco, [0,1,2,3])"
      ],
      "id": "U6rM0p9naqjm"
    },
    {
      "cell_type": "code",
      "execution_count": null,
      "metadata": {
        "id": "bCGBYk9PMhQ_"
      },
      "outputs": [],
      "source": [
        "job_tomo = execute(qst_bell, fake, shots=8000)"
      ],
      "id": "bCGBYk9PMhQ_"
    },
    {
      "cell_type": "code",
      "execution_count": null,
      "metadata": {
        "id": "Yt4ujivkMhTv"
      },
      "outputs": [],
      "source": [
        "tomo_bell = StateTomographyFitter(job_tomo.result(), qst_bell)"
      ],
      "id": "Yt4ujivkMhTv"
    },
    {
      "cell_type": "code",
      "execution_count": null,
      "metadata": {
        "id": "bHzwmYJRMhXD"
      },
      "outputs": [],
      "source": [
        "sv0= Statevector.from_label('0000')\n",
        "sv1=Statevector.from_label('1111')\n",
        "sv2= Statevector.from_label('1100')\n",
        "sv3=Statevector.from_label('0011')\n",
        "state_1 = math.sqrt(1/2)*(sv1+sv0)\n"
      ],
      "id": "bHzwmYJRMhXD"
    },
    {
      "cell_type": "code",
      "execution_count": null,
      "metadata": {
        "id": "n5kETXoDMhaO"
      },
      "outputs": [],
      "source": [
        "rho_bell = tomo_bell.fit(method='lstsq')\n",
        "F_bell = qi.state_fidelity(rho_bell, state_1)\n",
        "print('State fidelity (no correction): F = {:.5f}'.format(F_bell))"
      ],
      "id": "n5kETXoDMhaO"
    },
    {
      "cell_type": "code",
      "execution_count": null,
      "metadata": {
        "id": "Azs_Fj-NNUh_"
      },
      "outputs": [],
      "source": [],
      "id": "Azs_Fj-NNUh_"
    },
    {
      "cell_type": "code",
      "execution_count": null,
      "metadata": {
        "id": "f6f8fad4"
      },
      "outputs": [],
      "source": [
        "\n",
        "job = execute(Reco, backend=qcomp, shots=8000)\n"
      ],
      "id": "f6f8fad4"
    },
    {
      "cell_type": "code",
      "execution_count": null,
      "metadata": {
        "id": "17dccf20"
      },
      "outputs": [],
      "source": [
        "job_monitor(job)"
      ],
      "id": "17dccf20"
    },
    {
      "cell_type": "code",
      "execution_count": null,
      "metadata": {
        "id": "b02e0e32"
      },
      "outputs": [],
      "source": [
        "\n"
      ],
      "id": "b02e0e32"
    },
    {
      "cell_type": "code",
      "execution_count": null,
      "metadata": {
        "id": "2688329c"
      },
      "outputs": [],
      "source": [
        "result = job.result()\n",
        "counts = result.get_counts(Reco)\n",
        "graph = q.visualization.plot_histogram(counts)"
      ],
      "id": "2688329c"
    },
    {
      "cell_type": "code",
      "execution_count": null,
      "metadata": {
        "id": "94d141c9"
      },
      "outputs": [],
      "source": [],
      "id": "94d141c9"
    }
  ],
  "metadata": {
    "colab": {
      "provenance": []
    },
    "kernelspec": {
      "display_name": "Python 3 (ipykernel)",
      "language": "python",
      "name": "python3"
    },
    "language_info": {
      "codemirror_mode": {
        "name": "ipython",
        "version": 3
      },
      "file_extension": ".py",
      "mimetype": "text/x-python",
      "name": "python",
      "nbconvert_exporter": "python",
      "pygments_lexer": "ipython3",
      "version": "3.9.12"
    }
  },
  "nbformat": 4,
  "nbformat_minor": 5
}